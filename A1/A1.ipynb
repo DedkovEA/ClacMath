{
 "cells": [
  {
   "cell_type": "markdown",
   "id": "49554ef6",
   "metadata": {},
   "source": [
    "# Exercise 1 - Numpy"
   ]
  },
  {
   "cell_type": "code",
   "execution_count": 3,
   "id": "65e12817",
   "metadata": {},
   "outputs": [],
   "source": [
    "import numpy as np"
   ]
  },
  {
   "cell_type": "markdown",
   "id": "1a600980",
   "metadata": {},
   "source": [
    "## task 1"
   ]
  },
  {
   "cell_type": "code",
   "execution_count": 4,
   "id": "d3573e60",
   "metadata": {},
   "outputs": [],
   "source": [
    "mat1 = np.ones((3, 4))\n",
    "mat2 = np.zeros((3, 2))"
   ]
  },
  {
   "cell_type": "code",
   "execution_count": 5,
   "id": "fe050863",
   "metadata": {
    "scrolled": true
   },
   "outputs": [
    {
     "data": {
      "text/plain": [
       "array([[1., 1., 1., 1., 0., 0.],\n",
       "       [1., 1., 1., 1., 0., 0.],\n",
       "       [1., 1., 1., 1., 0., 0.]])"
      ]
     },
     "execution_count": 5,
     "metadata": {},
     "output_type": "execute_result"
    }
   ],
   "source": [
    "np.hstack((mat1, mat2))\n"
   ]
  },
  {
   "cell_type": "markdown",
   "id": "cbeb963c",
   "metadata": {},
   "source": [
    "## task 2"
   ]
  },
  {
   "cell_type": "code",
   "execution_count": 6,
   "id": "2bfc932b",
   "metadata": {},
   "outputs": [],
   "source": [
    "M = np.arange(30).reshape((5, 6))\n",
    "a = np.array([2, 4, 0, 3, 2])\n",
    "b = np.array([1, 0, 5, 3, 4])"
   ]
  },
  {
   "cell_type": "code",
   "execution_count": 7,
   "id": "98cf7de2",
   "metadata": {},
   "outputs": [
    {
     "name": "stdout",
     "output_type": "stream",
     "text": [
      "[[ 0  1  2  3  4  5]\n",
      " [ 6  7  8  9 10 11]\n",
      " [12 13 14 15 16 17]\n",
      " [18 19 20 21 22 23]\n",
      " [24 25 26 27 28 29]]\n",
      "Answer:\n",
      "[13 24  5 21 16]\n"
     ]
    }
   ],
   "source": [
    "print(M)\n",
    "print(\"Answer:\")\n",
    "print(M[a, b])"
   ]
  },
  {
   "cell_type": "markdown",
   "id": "b0ecb0e6",
   "metadata": {},
   "source": [
    "## task 3"
   ]
  },
  {
   "cell_type": "code",
   "execution_count": 8,
   "id": "3c346700",
   "metadata": {},
   "outputs": [],
   "source": [
    "M = np.arange(25).reshape((5, 5))"
   ]
  },
  {
   "cell_type": "code",
   "execution_count": 9,
   "id": "f5676ecf",
   "metadata": {},
   "outputs": [
    {
     "name": "stdout",
     "output_type": "stream",
     "text": [
      "[[ 0  1  2  3  4]\n",
      " [ 5  6  7  8  9]\n",
      " [10 11 12 13 14]\n",
      " [15 16 17 18 19]\n",
      " [20 21 22 23 24]]\n",
      "Trace =  60\n",
      "Count of nonzero elements =  4\n"
     ]
    }
   ],
   "source": [
    "print(M)\n",
    "print(\"Trace = \", np.trace(M))\n",
    "print(\"Count of nonzero elements = \", np.count_nonzero(np.diag(M)))"
   ]
  },
  {
   "cell_type": "markdown",
   "id": "fe03d191",
   "metadata": {},
   "source": [
    "## task 4"
   ]
  },
  {
   "cell_type": "code",
   "execution_count": 10,
   "id": "0400aa0d",
   "metadata": {},
   "outputs": [],
   "source": [
    "rg = np.random.default_rng(1)\n",
    "T = np.floor(10 * rg.random((3, 4, 5, 5))).astype(int)"
   ]
  },
  {
   "cell_type": "code",
   "execution_count": 11,
   "id": "99f6d6ae",
   "metadata": {},
   "outputs": [
    {
     "data": {
      "text/plain": [
       "(array([0, 1, 2, 3, 4, 5, 6, 7, 8, 9]),\n",
       " array([31, 33, 32, 31, 26, 26, 34, 31, 28, 28], dtype=int64))"
      ]
     },
     "execution_count": 11,
     "metadata": {},
     "output_type": "execute_result"
    }
   ],
   "source": [
    "np.unique(T, return_counts=True)"
   ]
  },
  {
   "cell_type": "markdown",
   "id": "46d45e40",
   "metadata": {},
   "source": [
    "## task 5"
   ]
  },
  {
   "cell_type": "code",
   "execution_count": 12,
   "id": "c4538978",
   "metadata": {},
   "outputs": [],
   "source": [
    "First = np.floor(10 * rg.random((4, 6)) - 5)\n",
    "Second = np.floor(10 * rg.random((4, 6)) - 5)"
   ]
  },
  {
   "cell_type": "code",
   "execution_count": 13,
   "id": "032334c4",
   "metadata": {},
   "outputs": [
    {
     "name": "stdout",
     "output_type": "stream",
     "text": [
      "[[-3.  0.  0. -1. -1.  0.]\n",
      " [ 4. -1.  3. -5. -2.  0.]\n",
      " [ 1. -3. -2.  4.  1.  0.]\n",
      " [-5. -5. -3. -4.  4. -5.]]\n",
      "[[ 0. -5.  1.  0.  0. -5.]\n",
      " [-3.  0.  3.  0.  0.  3.]\n",
      " [ 2.  0.  0.  3. -4.  1.]\n",
      " [ 0.  0.  0.  0. -1.  0.]]\n"
     ]
    }
   ],
   "source": [
    "print(First)\n",
    "Second[First<0] = 0\n",
    "print(Second)"
   ]
  },
  {
   "cell_type": "markdown",
   "id": "e50b9fc9",
   "metadata": {},
   "source": [
    "## task 6"
   ]
  },
  {
   "cell_type": "code",
   "execution_count": 14,
   "id": "e9dd9387",
   "metadata": {},
   "outputs": [
    {
     "data": {
      "text/plain": [
       "array([[ 0.,  1.,  2.,  0.,  4.],\n",
       "       [ 5.,  6.,  7.,  0.,  9.],\n",
       "       [10., 11., 12.,  0., 14.],\n",
       "       [15., 16., 17.,  0., 19.],\n",
       "       [20., 21., 22.,  0., 24.]])"
      ]
     },
     "execution_count": 14,
     "metadata": {},
     "output_type": "execute_result"
    }
   ],
   "source": [
    "M = np.arange(25).reshape((5, 5)).astype(float)\n",
    "M[:, 3] = 0\n",
    "M"
   ]
  },
  {
   "cell_type": "code",
   "execution_count": 15,
   "id": "6ad65ead",
   "metadata": {},
   "outputs": [
    {
     "name": "stdout",
     "output_type": "stream",
     "text": [
      "[[-0.63245553 -0.63245553 -0.63245553  0.         -0.63245553]\n",
      " [-0.31622777 -0.31622777 -0.31622777  0.         -0.31622777]\n",
      " [ 0.          0.          0.          0.          0.        ]\n",
      " [ 0.31622777  0.31622777  0.31622777  0.          0.31622777]\n",
      " [ 0.63245553  0.63245553  0.63245553  0.          0.63245553]]\n"
     ]
    }
   ],
   "source": [
    "M -= np.mean(M, axis=0)\n",
    "norms = np.linalg.norm(M, axis=0)\n",
    "norms[norms==0] = 1\n",
    "M /= norms\n",
    "print(M)"
   ]
  },
  {
   "cell_type": "markdown",
   "id": "dd1959f6",
   "metadata": {},
   "source": [
    "## task 7"
   ]
  },
  {
   "cell_type": "code",
   "execution_count": 16,
   "id": "76a13c62",
   "metadata": {},
   "outputs": [
    {
     "name": "stdout",
     "output_type": "stream",
     "text": [
      "[[-3  2 -3  4  0 -2]\n",
      " [-4 -1 -2  1 -1 -5]\n",
      " [ 3 -5  3  3  4  1]\n",
      " [-4 -1 -1  1 -2  1]]\n",
      "[[-3 -2  0 -1]\n",
      " [-4  4  1  3]\n",
      " [-2  4  3  4]\n",
      " [-4 -1 -2  1]]\n"
     ]
    }
   ],
   "source": [
    "M1 = np.floor(10 * rg.random((4, 6)) - 5).astype(int)\n",
    "M2 = np.floor(10 * rg.random((4, 4)) - 5).astype(int)\n",
    "print(M1)\n",
    "print(M2)"
   ]
  },
  {
   "cell_type": "code",
   "execution_count": 20,
   "id": "f350b101",
   "metadata": {
    "scrolled": true
   },
   "outputs": [
    {
     "name": "stdout",
     "output_type": "stream",
     "text": [
      "[[ 35   6  13  -1]\n",
      " [ 12 -27 -14 -26]\n",
      " [ 15  11   9   8]\n",
      " [-26   7   8  12]\n",
      " [  4  14  15  11]\n",
      " [ 20 -13  -4  -8]]\n"
     ]
    }
   ],
   "source": [
    "M = np.tensordot(M1, M2, axes=([0,0]))\n",
    "print(M)"
   ]
  },
  {
   "cell_type": "markdown",
   "id": "1f442f41",
   "metadata": {},
   "source": [
    "## task 8"
   ]
  },
  {
   "cell_type": "code",
   "execution_count": 37,
   "id": "14d48139",
   "metadata": {},
   "outputs": [],
   "source": [
    "import time\n",
    "\n",
    "def get_np_time(N, repeat=100):\n",
    "    M = np.random.random((N, N))\n",
    "    tm = time.time();\n",
    "    for i in range(repeat):\n",
    "        prod = M @ M\n",
    "    tm = time.time() - tm;\n",
    "    return tm/repeat*1000\n",
    "\n",
    "def product(A, N):\n",
    "    res = np.empty((N, N))\n",
    "    for i in range(N):\n",
    "        for j in range(N):\n",
    "            res[i, j] = 0\n",
    "            for k in range(N):\n",
    "                res[i, j] += A[i, k] * A[k, j]\n",
    "    return res\n",
    "\n",
    "def get_py_time(N, repeat=100):\n",
    "    M = np.random.random((N, N))\n",
    "    tm = time.time();\n",
    "    for i in range(repeat):\n",
    "        prod = product(M, N)\n",
    "    tm = time.time() - tm;\n",
    "    return tm/repeat*1000"
   ]
  },
  {
   "cell_type": "code",
   "execution_count": 41,
   "id": "3c1ca313",
   "metadata": {},
   "outputs": [],
   "source": [
    "ns_np = np.arange(2, 1003, 10)\n",
    "ns_py = np.arange(2, 153, 10)\n",
    "np_times = np.array([get_np_time(i) for i in ns_np])\n",
    "py_times = np.array([get_py_time(i, 10) for i in ns_py])"
   ]
  },
  {
   "cell_type": "code",
   "execution_count": 42,
   "id": "e7a2d174",
   "metadata": {},
   "outputs": [
    {
     "data": {
      "image/png": "[encoded data removed]",
      "text/plain": [
       "<Figure size 576x288 with 2 Axes>"
      ]
     },
     "metadata": {
      "needs_background": "light"
     },
     "output_type": "display_data"
    }
   ],
   "source": [
    "import matplotlib.pyplot as plt\n",
    "fig, axs = plt.subplots(1, 2, figsize=(8, 4))\n",
    "axs[0].plot(ns_np, np_times, color=\"b\", label=\"numpy\")\n",
    "axs[0].set_xlabel(\"N, matrix size\")\n",
    "axs[0].set_ylabel(\"t, ms\")\n",
    "\n",
    "axs[1].plot(ns_py, py_times, color=\"r\", label=\"python\")\n",
    "axs[1].set_xlabel(\"N, matrix size\")\n",
    "\n",
    "axs[0].minorticks_on()\n",
    "axs[0].grid(b=True, which='major', color='k', linestyle='-', alpha=0.2)\n",
    "axs[0].grid(b=True, which='minor', color='k', linestyle='--', alpha=0.1)\n",
    "axs[0].legend()\n",
    "axs[1].minorticks_on()\n",
    "axs[1].grid(b=True, which='major', color='k', linestyle='-', alpha=0.2)\n",
    "axs[1].grid(b=True, which='minor', color='k', linestyle='--', alpha=0.1)\n",
    "axs[1].legend()\n",
    "plt.show()"
   ]
  },
  {
   "cell_type": "markdown",
   "id": "87809e51",
   "metadata": {},
   "source": [
    "Ассимптотика та же, в то время как константа разительно отличается"
   ]
  },
  {
   "cell_type": "code",
   "execution_count": null,
   "id": "59fbde9a",
   "metadata": {},
   "outputs": [],
   "source": []
  }
 ],
 "metadata": {
  "kernelspec": {
   "display_name": "Python 3 (ipykernel)",
   "language": "python",
   "name": "python3"
  },
  "language_info": {
   "codemirror_mode": {
    "name": "ipython",
    "version": 3
   },
   "file_extension": ".py",
   "mimetype": "text/x-python",
   "name": "python",
   "nbconvert_exporter": "python",
   "pygments_lexer": "ipython3",
   "version": "3.9.7"
  }
 },
 "nbformat": 4,
 "nbformat_minor": 5
}
