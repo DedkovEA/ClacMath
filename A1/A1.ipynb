{
 "cells": [
  {
   "cell_type": "markdown",
   "id": "99f7c583",
   "metadata": {},
   "source": [
    "# Exercise 1 - Numpy"
   ]
  },
  {
   "cell_type": "code",
   "execution_count": 2,
   "id": "baac4302",
   "metadata": {},
   "outputs": [],
   "source": [
    "import numpy as np"
   ]
  },
  {
   "cell_type": "markdown",
   "id": "189042f3",
   "metadata": {},
   "source": [
    "## task 1"
   ]
  },
  {
   "cell_type": "code",
   "execution_count": 5,
   "id": "f7f1fb8f",
   "metadata": {},
   "outputs": [],
   "source": [
    "mat1 = np.ones((3, 4))\n",
    "mat2 = np.zeros((3, 2))"
   ]
  },
  {
   "cell_type": "code",
   "execution_count": 12,
   "id": "99b75c4b",
   "metadata": {
    "scrolled": true
   },
   "outputs": [
    {
     "data": {
      "text/plain": [
       "array([[1., 1., 1., 1., 0., 0.],\n",
       "       [1., 1., 1., 1., 0., 0.],\n",
       "       [1., 1., 1., 1., 0., 0.]])"
      ]
     },
     "execution_count": 12,
     "metadata": {},
     "output_type": "execute_result"
    }
   ],
   "source": [
    "np.hstack((mat1, mat2))\n"
   ]
  },
  {
   "cell_type": "markdown",
   "id": "796e87d5",
   "metadata": {},
   "source": [
    "## task 2"
   ]
  },
  {
   "cell_type": "code",
   "execution_count": 16,
   "id": "3ca53928",
   "metadata": {},
   "outputs": [],
   "source": [
    "M = np.arange(30).reshape((5, 6))\n",
    "a = np.array([2, 4, 0, 3, 2])\n",
    "b = np.array([1, 0, 5, 3, 4])"
   ]
  },
  {
   "cell_type": "code",
   "execution_count": 21,
   "id": "994376a4",
   "metadata": {},
   "outputs": [
    {
     "name": "stdout",
     "output_type": "stream",
     "text": [
      "[[ 0  1  2  3  4  5]\n",
      " [ 6  7  8  9 10 11]\n",
      " [12 13 14 15 16 17]\n",
      " [18 19 20 21 22 23]\n",
      " [24 25 26 27 28 29]]\n",
      "Answer:\n",
      "[13 24  5 21 16]\n"
     ]
    }
   ],
   "source": [
    "print(M)\n",
    "print(\"Answer:\")\n",
    "print(M[a, b])"
   ]
  },
  {
   "cell_type": "markdown",
   "id": "139edcbe",
   "metadata": {},
   "source": [
    "## task 3"
   ]
  },
  {
   "cell_type": "code",
   "execution_count": 23,
   "id": "56ad2392",
   "metadata": {},
   "outputs": [],
   "source": [
    "M = np.arange(25).reshape((5, 5))"
   ]
  },
  {
   "cell_type": "code",
   "execution_count": 27,
   "id": "3c7b6956",
   "metadata": {},
   "outputs": [
    {
     "name": "stdout",
     "output_type": "stream",
     "text": [
      "[[ 0  1  2  3  4]\n",
      " [ 5  6  7  8  9]\n",
      " [10 11 12 13 14]\n",
      " [15 16 17 18 19]\n",
      " [20 21 22 23 24]]\n",
      "Trace =  60\n",
      "Count of nonzero elements =  4\n"
     ]
    }
   ],
   "source": [
    "print(M)\n",
    "print(\"Trace = \", np.trace(M))\n",
    "print(\"Count of nonzero elements = \", np.count_nonzero(np.diag(M)))"
   ]
  },
  {
   "cell_type": "markdown",
   "id": "6ba7f4c6",
   "metadata": {},
   "source": [
    "## task 4"
   ]
  },
  {
   "cell_type": "code",
   "execution_count": 34,
   "id": "b8ac7553",
   "metadata": {},
   "outputs": [],
   "source": [
    "rg = np.random.default_rng(1)\n",
    "T = np.floor(10 * rg.random((3, 4, 5, 5))).astype(int)"
   ]
  },
  {
   "cell_type": "code",
   "execution_count": 36,
   "id": "7f89cba3",
   "metadata": {},
   "outputs": [
    {
     "data": {
      "text/plain": [
       "(array([0, 1, 2, 3, 4, 5, 6, 7, 8, 9]),\n",
       " array([31, 33, 32, 31, 26, 26, 34, 31, 28, 28], dtype=int64))"
      ]
     },
     "execution_count": 36,
     "metadata": {},
     "output_type": "execute_result"
    }
   ],
   "source": [
    "np.unique(T, return_counts=True)"
   ]
  },
  {
   "cell_type": "markdown",
   "id": "2a6f7aad",
   "metadata": {},
   "source": [
    "## task 5"
   ]
  },
  {
   "cell_type": "code",
   "execution_count": 39,
   "id": "898c0122",
   "metadata": {},
   "outputs": [],
   "source": [
    "First = np.floor(10 * rg.random((4, 6)) - 5)\n",
    "Second = np.floor(10 * rg.random((4, 6)) - 5)"
   ]
  },
  {
   "cell_type": "code",
   "execution_count": 41,
   "id": "b2278ce9",
   "metadata": {},
   "outputs": [
    {
     "name": "stdout",
     "output_type": "stream",
     "text": [
      "[[-3. -2.  0. -1. -4.  4.]\n",
      " [ 1.  3. -2.  4.  3.  4.]\n",
      " [-4. -1. -2.  1. -3. -4.]\n",
      " [-1.  1. -2.  4. -1. -3.]]\n",
      "[[ 0.  0. -3.  0.  0.  4.]\n",
      " [ 1. -3.  0. -3. -2.  0.]\n",
      " [ 0.  0.  0. -4.  0.  0.]\n",
      " [ 0. -3.  0.  2.  0.  0.]]\n"
     ]
    }
   ],
   "source": [
    "print(First)\n",
    "Second[First<0] = 0\n",
    "print(Second)"
   ]
  },
  {
   "cell_type": "code",
   "execution_count": null,
   "id": "c949ffc9",
   "metadata": {},
   "outputs": [],
   "source": []
  }
 ],
 "metadata": {
  "kernelspec": {
   "display_name": "Python 3 (ipykernel)",
   "language": "python",
   "name": "python3"
  },
  "language_info": {
   "codemirror_mode": {
    "name": "ipython",
    "version": 3
   },
   "file_extension": ".py",
   "mimetype": "text/x-python",
   "name": "python",
   "nbconvert_exporter": "python",
   "pygments_lexer": "ipython3",
   "version": "3.9.7"
  }
 },
 "nbformat": 4,
 "nbformat_minor": 5
}
