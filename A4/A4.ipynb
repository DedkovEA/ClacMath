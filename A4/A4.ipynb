{
 "cells": [
  {
   "cell_type": "markdown",
   "id": "96add36c",
   "metadata": {},
   "source": [
    "# Задачи к семинару А4"
   ]
  },
  {
   "cell_type": "markdown",
   "id": "e6d786f9",
   "metadata": {},
   "source": [
    "## Задача 2"
   ]
  },
  {
   "cell_type": "markdown",
   "id": "04ce9adc",
   "metadata": {},
   "source": [
    "<img src=\"files/t2.jpg\">"
   ]
  },
  {
   "cell_type": "markdown",
   "id": "489ca507",
   "metadata": {},
   "source": [
    "# Задача 3"
   ]
  },
  {
   "cell_type": "markdown",
   "id": "ffa647cc",
   "metadata": {},
   "source": [
    "<img src=\"files/t3_1.jpg\">\n",
    "<img src=\"files/t3_2.jpg\">"
   ]
  },
  {
   "cell_type": "markdown",
   "id": "248fc543",
   "metadata": {},
   "source": [
    "# Задача 4"
   ]
  },
  {
   "cell_type": "markdown",
   "id": "d42250e5",
   "metadata": {},
   "source": [
    "<img src=\"files/t4.jpg\">"
   ]
  },
  {
   "cell_type": "markdown",
   "id": "ca14e727",
   "metadata": {},
   "source": [
    "# Задача 5"
   ]
  },
  {
   "cell_type": "markdown",
   "id": "b08abf00",
   "metadata": {},
   "source": [
    "<img src=\"files/t5.jpg\">"
   ]
  },
  {
   "cell_type": "code",
   "execution_count": null,
   "id": "247b4cd8",
   "metadata": {},
   "outputs": [],
   "source": []
  }
 ],
 "metadata": {
  "kernelspec": {
   "display_name": "Python 3 (ipykernel)",
   "language": "python",
   "name": "python3"
  },
  "language_info": {
   "codemirror_mode": {
    "name": "ipython",
    "version": 3
   },
   "file_extension": ".py",
   "mimetype": "text/x-python",
   "name": "python",
   "nbconvert_exporter": "python",
   "pygments_lexer": "ipython3",
   "version": "3.9.7"
  }
 },
 "nbformat": 4,
 "nbformat_minor": 5
}
