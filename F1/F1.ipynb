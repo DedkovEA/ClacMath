{
 "cells": [
  {
   "cell_type": "code",
   "execution_count": 1,
   "id": "2d817519",
   "metadata": {},
   "outputs": [],
   "source": [
    "import numpy as np\n",
    "import matplotlib.pyplot as plt"
   ]
  },
  {
   "cell_type": "markdown",
   "id": "d4e53dd8",
   "metadata": {},
   "source": [
    "Будем делать согласно файлу. Я, однако, не вполне согласен, что равновероятное распределение рассеянных частиц по углам дает равномерное распределение косинуса угла,но ради единообразия, оставим эту неточность."
   ]
  },
  {
   "cell_type": "code",
   "execution_count": 109,
   "id": "03bd58db",
   "metadata": {},
   "outputs": [],
   "source": [
    "n, m, k = (2, 0.4, 4)\n",
    "N = int(10**(k+1))\n",
    "h = 10**(m)\n",
    "S = 1\n",
    "S_c = 10**(-n)"
   ]
  },
  {
   "cell_type": "markdown",
   "id": "4996d52d",
   "metadata": {},
   "source": [
    "Хотелось бы формализовать в numpy. Будем делать не питоновским циклом, а сразу считать некоторое число P шагов отражений и параллельно массив отражение/поглощение. Затем найдем первое число меньшее 0 или большее 1 в первом массиве и первое поглощение во втором. Если нет такового, то повторим еще P итераций."
   ]
  },
  {
   "cell_type": "code",
   "execution_count": 90,
   "id": "0ff48634",
   "metadata": {},
   "outputs": [],
   "source": [
    "P = int(10**np.min([m,n]))"
   ]
  },
  {
   "cell_type": "code",
   "execution_count": 91,
   "id": "e7b74cd0",
   "metadata": {},
   "outputs": [
    {
     "name": "stdout",
     "output_type": "stream",
     "text": [
      "(898, 1)\n",
      "(536, 1)\n"
     ]
    }
   ],
   "source": [
    "rest = np.ones((N,1))\n",
    "x_c = np.array([])\n",
    "ls = np.random.random(N)\n",
    "x_c = np.hstack((x_c, rest[ls < S_c].reshape(-1)))\n",
    "rest = rest[ls >= S_c].reshape(-1,1)\n",
    "nr = 0\n",
    "nd = 0\n",
    "\n",
    "while rest.shape[0] > 0:\n",
    "    print(rest.shape)\n",
    "    mu = -np.log(1 - np.random.random((rest.shape[0], P))) * (2*np.random.random((rest.shape[0], P)) - 1)\n",
    "    x = rest + np.cumsum(mu)\n",
    "    ls = np.random.random((rest.shape[0], P))\n",
    "    c = np.argmax(np.hstack((np.zeros(ls.shape[0]).reshape(-1,1), ls < S_c)), axis=1) - 1 # -1 if not caught, ind if caught\n",
    "    r = np.argmax(np.hstack((np.zeros(ls.shape[0]).reshape(-1,1), x < 0)), axis=1) - 1\n",
    "    d = np.argmax(np.hstack((np.zeros(ls.shape[0]).reshape(-1,1), x > 1)), axis=1) - 1\n",
    "    c[c<0] = P+1\n",
    "    d[d<0] = P+1\n",
    "    r[r<0] = P+1\n",
    "    x_c = np.hstack((x_c, x[ np.where(np.logical_and(c<r, c<d)==True), c[np.logical_and(c<r, c<d)] ].reshape(-1)))\n",
    "    nd += np.sum(d < r)\n",
    "    nr += np.sum(r < d)\n",
    "    rest = x[:, -1][c+d+r > 3*P+1].reshape((-1,1))"
   ]
  },
  {
   "cell_type": "code",
   "execution_count": 93,
   "id": "25eefd35",
   "metadata": {},
   "outputs": [
    {
     "name": "stdout",
     "output_type": "stream",
     "text": [
      "898 536 1000\n"
     ]
    }
   ],
   "source": [
    "print(nd, nr, N)"
   ]
  },
  {
   "cell_type": "markdown",
   "id": "0b06b46c",
   "metadata": {},
   "source": [
    "Затея оказалась несостоятельной ерундой, но оставлю этот шедевр здесь, если кто захочет починить."
   ]
  },
  {
   "cell_type": "code",
   "execution_count": 114,
   "id": "a61aa862",
   "metadata": {},
   "outputs": [],
   "source": [
    "def eval_neutr(N, h, S_c):\n",
    "    nr = 0\n",
    "    nd = 0\n",
    "    x_c = []\n",
    "    for i in range(N):\n",
    "        x = 0\n",
    "        mu = 1\n",
    "        flag = True\n",
    "        while flag:\n",
    "            l = -np.log(1 - np.random.random())\n",
    "            x = x + mu*l\n",
    "            if x > h:\n",
    "                nd += 1\n",
    "                flag = False\n",
    "                # print(\"{}, {:.2f} pass\".format(i, x))\n",
    "            elif x < 0:\n",
    "                nr += 1\n",
    "                flag = False\n",
    "                # print(\"{}, {:.2f} refl\".format(i, x))\n",
    "            else:\n",
    "                g = np.random.random()\n",
    "                if g < S_c:\n",
    "                    x_c.append(x)\n",
    "                    # print(\"{}, {:.2f} caught\".format(i, x))\n",
    "                    flag = False\n",
    "                else:\n",
    "                    mu = 2*np.random.random() - 1\n",
    "\n",
    "    x_c = np.asarray(x_c)\n",
    "    return (nr, nd, x_c)"
   ]
  },
  {
   "cell_type": "code",
   "execution_count": 115,
   "id": "a79b4e2e",
   "metadata": {},
   "outputs": [
    {
     "name": "stdout",
     "output_type": "stream",
     "text": [
      "n+ = 40323, n- = 54848, n0 = 4829\n"
     ]
    }
   ],
   "source": [
    "nr, nd, x_c = eval_neutr(N, h, S_c)\n",
    "print(\"n+ = {}, n- = {}, n0 = {}\".format(nd, nr, x_c.shape[0]))"
   ]
  },
  {
   "cell_type": "code",
   "execution_count": 116,
   "id": "0ad6cbc0",
   "metadata": {},
   "outputs": [],
   "source": [
    "pp = nd / N\n",
    "pm = nr / N\n",
    "n0 = x_c.shape[0]\n",
    "p0 = n0 / N"
   ]
  },
  {
   "cell_type": "code",
   "execution_count": 117,
   "id": "d701ae82",
   "metadata": {},
   "outputs": [
    {
     "name": "stdout",
     "output_type": "stream",
     "text": [
      "P+ = 0.40323, P- = 0.54848, P0 = 0.04829\n"
     ]
    }
   ],
   "source": [
    "print(\"P+ = {}, P- = {}, P0 = {}\".format(pp, pm, p0))"
   ]
  },
  {
   "cell_type": "code",
   "execution_count": 119,
   "id": "508a14cf",
   "metadata": {},
   "outputs": [
    {
     "data": {
      "image/png": "[encoded data removed]",
      "text/plain": [
       "<Figure size 432x288 with 1 Axes>"
      ]
     },
     "metadata": {
      "needs_background": "light"
     },
     "output_type": "display_data"
    }
   ],
   "source": [
    "plt.hist(x_c, 50)\n",
    "plt.show()"
   ]
  },
  {
   "cell_type": "code",
   "execution_count": 161,
   "id": "3bc578cb",
   "metadata": {},
   "outputs": [],
   "source": [
    "params = ((1, 0.2, 2), (1, 0.2, 4), (2, 0.2, 4), (2, 1, 4)) # n, m, k"
   ]
  },
  {
   "cell_type": "code",
   "execution_count": 162,
   "id": "7f28171b",
   "metadata": {
    "scrolled": false
   },
   "outputs": [
    {
     "data": {
      "image/png": "[encoded data removed]",
      "text/plain": [
       "<Figure size 1200x960 with 4 Axes>"
      ]
     },
     "metadata": {
      "needs_background": "light"
     },
     "output_type": "display_data"
    }
   ],
   "source": [
    "fig = plt.figure(figsize=(10, 8), dpi=120)\n",
    "for par, i in zip(params, range(len(params))):\n",
    "    n,m,k = par\n",
    "    N = int(10**(k+1))\n",
    "    h = 10**(m)\n",
    "    S = 1\n",
    "    S_c = 10**(-n)\n",
    "    nr, nd, x_c = eval_neutr(N, h, S_c)\n",
    "    plt.subplot(2, 2, i+1)\n",
    "    plt.hist(x_c, 50)\n",
    "    plt.title(\"(n, m, k) = ({}, {}, {})\".format(n, m, k))\n",
    "fig.subplots_adjust(hspace=0.5)\n",
    "plt.show()"
   ]
  },
  {
   "cell_type": "code",
   "execution_count": null,
   "id": "392d12a6",
   "metadata": {},
   "outputs": [],
   "source": []
  }
 ],
 "metadata": {
  "kernelspec": {
   "display_name": "Python 3 (ipykernel)",
   "language": "python",
   "name": "python3"
  },
  "language_info": {
   "codemirror_mode": {
    "name": "ipython",
    "version": 3
   },
   "file_extension": ".py",
   "mimetype": "text/x-python",
   "name": "python",
   "nbconvert_exporter": "python",
   "pygments_lexer": "ipython3",
   "version": "3.9.7"
  }
 },
 "nbformat": 4,
 "nbformat_minor": 5
}
