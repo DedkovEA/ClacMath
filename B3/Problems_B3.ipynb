{
 "cells": [
  {
   "cell_type": "markdown",
   "metadata": {
    "id": "MeXTSdSfKdL2"
   },
   "source": [
    "## *Задача 1* \n"
   ]
  },
  {
   "cell_type": "markdown",
   "metadata": {
    "id": "19smb2owQS40"
   },
   "source": [
    "Реализовать с помощью scipy генератор полосатых матриц, который должен поддерживать функции:\n",
    "* Генерация абсолютно случайной полосатой матрицы $n\\times m$\n",
    "* Генерация полосатой матрицы с постоянными коэффициентами вдоль каждой полосы $n\\times n$\n",
    "* Генерация случайного возмущения матрицы $n\\times m$, каждый элемент которой не превосходит по модулю заданный $\\varepsilon$\n",
    "* Генерация полосатой матрицы, в которой полосы заданы векторами.\n",
    "\n",
    " Сравнить три приведённых ниже метода создания матриц между собой по использованию памяти, используя измерение размера объектов в Python (sys.getsizeof(object[, default])). \n",
    " Реализовать генератор матриц всеми тремя методами, сравнить их также по скорости (для решения систем уравнений).\n",
    "\n",
    "\n"
   ]
  },
  {
   "cell_type": "code",
   "execution_count": 7,
   "metadata": {
    "id": "fpAZctoEOXxC"
   },
   "outputs": [
    {
     "name": "stdout",
     "output_type": "stream",
     "text": [
      "[[1. 1. 0. ... 0. 0. 0.]\n",
      " [1. 1. 1. ... 0. 0. 0.]\n",
      " [0. 1. 1. ... 0. 0. 0.]\n",
      " ...\n",
      " [0. 0. 0. ... 1. 1. 0.]\n",
      " [0. 0. 0. ... 1. 1. 1.]\n",
      " [0. 0. 0. ... 0. 1. 1.]]\n",
      "[ 0.06514582 -2.76683217  1.4224609   2.94436768  2.14748068 -1.08915159\n",
      " -6.40387909 -1.00090041  4.17206421  6.06096021  1.13322406 -7.56285348\n",
      " -4.23193788  1.7203599   6.53317811  4.05409617 -4.91062075 -4.45432187\n",
      " -1.23403982  4.54231538  4.96702172 -2.14115126 -3.17548324 -2.03295914\n",
      "  1.63281501  3.55624734 -0.71523459 -0.64894367 -0.7935505   0.06787771\n",
      "  0.92563041 -1.39434358  0.53439072  1.08398874  0.90709126  0.02242361\n",
      " -3.21549239 -0.14490765  2.11607675  2.72044873  0.72706817 -3.9338362\n",
      " -1.89123047  0.97999961  3.888654    2.98461713 -3.15295388 -3.63890576\n",
      " -1.70885806  3.73354913  5.11584879 -0.90481861 -3.53362442 -3.91417785\n",
      "  1.54463963  4.76798198  1.67840222 -1.26776548 -4.27316062 -0.99085325\n",
      "  3.18636368  2.72781974  1.16867535 -3.1156715  -2.09855214  0.98085167\n",
      "  1.60078503  1.69974761 -1.09838863 -0.3436232   0.65693111 -0.43645297\n",
      " -0.35535173 -1.31229681  1.86390995  3.11165212 -0.11709769 -2.90124276\n",
      " -3.67831829  1.43712448  5.75967961  2.44976887 -3.0154759  -5.99494632\n",
      " -1.47868479  5.61467767  5.34551581  0.13042696 -5.54678012 -5.00616504\n",
      "  2.50121059  5.07046415  3.00025325 -1.84794795 -5.01198715 -0.25796116\n",
      "  2.26724007  2.68439783  0.78348523 -2.48783136]\n",
      "Generation took 0.9787082672119141 ms\n",
      "Solution took 14.868736267089844 ms\n",
      "Memory used: 84736\n"
     ]
    }
   ],
   "source": [
    "import sys as ss\n",
    "import scipy\n",
    "import scipy.sparse\n",
    "import scipy.linalg\n",
    "import numpy as np\n",
    "\n",
    "import time\n",
    "\n",
    "N = 100\n",
    "m = 3\n",
    "\n",
    "b = np.random.rand(N)\n",
    "\n",
    "t1 = time.time()\n",
    "\n",
    "Ap, As, An, Aw, Ae = np.ones(N), np.ones(N), np.ones(N), np.ones(N), np.ones(N)\n",
    "diagonals = [Ap, As, An, Aw, Ae]\n",
    "A = scipy.sparse.diags(diagonals, [0, -1, 1, -m, m]).toarray()\n",
    "\n",
    "mem = ss.getsizeof(Ap)*5 + ss.getsizeof(diagonals) + ss.getsizeof(A)\n",
    "\n",
    "t2 = time.time()\n",
    "\n",
    "x = scipy.linalg.solve(A, b)\n",
    "print(A, x, sep = '\\n')\n",
    "\n",
    "t3 = time.time()\n",
    "\n",
    "print(\"Generation took %s ms\" % ((t2 - t1) * 1000))\n",
    "print(\"Solution took %s ms\" % ((t3 - t2) * 1000))\n",
    "print(\"Memory used: {}\".format(mem))"
   ]
  },
  {
   "cell_type": "code",
   "execution_count": 9,
   "metadata": {
    "id": "erDyhJCuQyfz"
   },
   "outputs": [
    {
     "name": "stdout",
     "output_type": "stream",
     "text": [
      "[[1. 1. 1. 1. 1. 1. 1. 1. 1. 1. 1. 1. 1. 1. 1. 1. 1. 1. 1. 1. 1. 1. 1. 1.\n",
      "  1. 1. 1. 1. 1. 1. 1. 1. 1. 1. 1. 1. 1. 1. 1. 1. 1. 1. 1. 1. 1. 1. 1. 1.\n",
      "  1. 1. 1. 1. 1. 1. 1. 1. 1. 1. 1. 1. 1. 1. 1. 1. 1. 1. 1. 1. 1. 1. 1. 1.\n",
      "  1. 1. 1. 1. 1. 1. 1. 1. 1. 1. 1. 1. 1. 1. 1. 1. 1. 1. 1. 1. 1. 1. 1. 1.\n",
      "  1. 1. 1. 1.]\n",
      " [0. 0. 0. 0. 0. 0. 0. 0. 0. 0. 0. 0. 0. 0. 0. 0. 0. 0. 0. 0. 0. 0. 0. 0.\n",
      "  0. 0. 0. 0. 0. 0. 0. 0. 0. 0. 0. 0. 0. 0. 0. 0. 0. 0. 0. 0. 0. 0. 0. 0.\n",
      "  0. 0. 0. 0. 0. 0. 0. 0. 0. 0. 0. 0. 0. 0. 0. 0. 0. 0. 0. 0. 0. 0. 0. 0.\n",
      "  0. 0. 0. 0. 0. 0. 0. 0. 0. 0. 0. 0. 0. 0. 0. 0. 0. 0. 0. 0. 0. 0. 0. 0.\n",
      "  0. 0. 0. 0.]\n",
      " [1. 1. 1. 1. 1. 1. 1. 1. 1. 1. 1. 1. 1. 1. 1. 1. 1. 1. 1. 1. 1. 1. 1. 1.\n",
      "  1. 1. 1. 1. 1. 1. 1. 1. 1. 1. 1. 1. 1. 1. 1. 1. 1. 1. 1. 1. 1. 1. 1. 1.\n",
      "  1. 1. 1. 1. 1. 1. 1. 1. 1. 1. 1. 1. 1. 1. 1. 1. 1. 1. 1. 1. 1. 1. 1. 1.\n",
      "  1. 1. 1. 1. 1. 1. 1. 1. 1. 1. 1. 1. 1. 1. 1. 1. 1. 1. 1. 1. 1. 1. 1. 1.\n",
      "  1. 1. 1. 1.]\n",
      " [1. 1. 1. 1. 1. 1. 1. 1. 1. 1. 1. 1. 1. 1. 1. 1. 1. 1. 1. 1. 1. 1. 1. 1.\n",
      "  1. 1. 1. 1. 1. 1. 1. 1. 1. 1. 1. 1. 1. 1. 1. 1. 1. 1. 1. 1. 1. 1. 1. 1.\n",
      "  1. 1. 1. 1. 1. 1. 1. 1. 1. 1. 1. 1. 1. 1. 1. 1. 1. 1. 1. 1. 1. 1. 1. 1.\n",
      "  1. 1. 1. 1. 1. 1. 1. 1. 1. 1. 1. 1. 1. 1. 1. 1. 1. 1. 1. 1. 1. 1. 1. 1.\n",
      "  1. 1. 1. 1.]\n",
      " [1. 1. 1. 1. 1. 1. 1. 1. 1. 1. 1. 1. 1. 1. 1. 1. 1. 1. 1. 1. 1. 1. 1. 1.\n",
      "  1. 1. 1. 1. 1. 1. 1. 1. 1. 1. 1. 1. 1. 1. 1. 1. 1. 1. 1. 1. 1. 1. 1. 1.\n",
      "  1. 1. 1. 1. 1. 1. 1. 1. 1. 1. 1. 1. 1. 1. 1. 1. 1. 1. 1. 1. 1. 1. 1. 1.\n",
      "  1. 1. 1. 1. 1. 1. 1. 1. 1. 1. 1. 1. 1. 1. 1. 1. 1. 1. 1. 1. 1. 1. 1. 1.\n",
      "  1. 1. 1. 1.]\n",
      " [0. 0. 0. 0. 0. 0. 0. 0. 0. 0. 0. 0. 0. 0. 0. 0. 0. 0. 0. 0. 0. 0. 0. 0.\n",
      "  0. 0. 0. 0. 0. 0. 0. 0. 0. 0. 0. 0. 0. 0. 0. 0. 0. 0. 0. 0. 0. 0. 0. 0.\n",
      "  0. 0. 0. 0. 0. 0. 0. 0. 0. 0. 0. 0. 0. 0. 0. 0. 0. 0. 0. 0. 0. 0. 0. 0.\n",
      "  0. 0. 0. 0. 0. 0. 0. 0. 0. 0. 0. 0. 0. 0. 0. 0. 0. 0. 0. 0. 0. 0. 0. 0.\n",
      "  0. 0. 0. 0.]\n",
      " [1. 1. 1. 1. 1. 1. 1. 1. 1. 1. 1. 1. 1. 1. 1. 1. 1. 1. 1. 1. 1. 1. 1. 1.\n",
      "  1. 1. 1. 1. 1. 1. 1. 1. 1. 1. 1. 1. 1. 1. 1. 1. 1. 1. 1. 1. 1. 1. 1. 1.\n",
      "  1. 1. 1. 1. 1. 1. 1. 1. 1. 1. 1. 1. 1. 1. 1. 1. 1. 1. 1. 1. 1. 1. 1. 1.\n",
      "  1. 1. 1. 1. 1. 1. 1. 1. 1. 1. 1. 1. 1. 1. 1. 1. 1. 1. 1. 1. 1. 1. 1. 1.\n",
      "  1. 1. 1. 1.]]\n",
      "[ 0.06514582 -2.76683217  1.4224609   2.94436768  2.14748068 -1.08915159\n",
      " -6.40387909 -1.00090041  4.17206421  6.06096021  1.13322406 -7.56285348\n",
      " -4.23193788  1.7203599   6.53317811  4.05409617 -4.91062075 -4.45432187\n",
      " -1.23403982  4.54231538  4.96702172 -2.14115126 -3.17548324 -2.03295914\n",
      "  1.63281501  3.55624734 -0.71523459 -0.64894367 -0.7935505   0.06787771\n",
      "  0.92563041 -1.39434358  0.53439072  1.08398874  0.90709126  0.02242361\n",
      " -3.21549239 -0.14490765  2.11607675  2.72044873  0.72706817 -3.9338362\n",
      " -1.89123047  0.97999961  3.888654    2.98461713 -3.15295388 -3.63890576\n",
      " -1.70885806  3.73354913  5.11584879 -0.90481861 -3.53362442 -3.91417785\n",
      "  1.54463963  4.76798198  1.67840222 -1.26776548 -4.27316062 -0.99085325\n",
      "  3.18636368  2.72781974  1.16867535 -3.1156715  -2.09855214  0.98085167\n",
      "  1.60078503  1.69974761 -1.09838863 -0.3436232   0.65693111 -0.43645297\n",
      " -0.35535173 -1.31229681  1.86390995  3.11165212 -0.11709769 -2.90124276\n",
      " -3.67831829  1.43712448  5.75967961  2.44976887 -3.0154759  -5.99494632\n",
      " -1.47868479  5.61467767  5.34551581  0.13042696 -5.54678012 -5.00616504\n",
      "  2.50121059  5.07046415  3.00025325 -1.84794795 -5.01198715 -0.25796116\n",
      "  2.26724007  2.68439783  0.78348523 -2.48783136]\n",
      "Generation took 0.0 ms\n",
      "Solution took 7.076025009155273 ms\n",
      "Memory used: 10336\n"
     ]
    }
   ],
   "source": [
    "t1 = time.time()\n",
    "\n",
    "Ap, As, An, Aw, Ae = np.ones(N), np.ones(N), np.ones(N), np.ones(N), np.ones(N)\n",
    "A = np.zeros((2 * m + 1, N))\n",
    "A[0] = Ae\n",
    "A[m - 1] = An\n",
    "A[m] = Ap\n",
    "A[m + 1] = As\n",
    "A[2 * m] = Aw\n",
    "mem = ss.getsizeof(Ap)*5 + ss.getsizeof(diagonals) + ss.getsizeof(A)\n",
    "t2 = time.time() \n",
    "\n",
    "x = scipy.linalg.solve_banded((m, m), A, b)\n",
    "print(A, x, sep = '\\n')\n",
    "\n",
    "t3 = time.time()\n",
    "\n",
    "print(\"Generation took %s ms\" % ((t2 - t1) * 1000))\n",
    "print(\"Solution took %s ms\" % ((t3 - t2) * 1000))\n",
    "print(\"Memory used: {}\".format(mem))"
   ]
  },
  {
   "cell_type": "code",
   "execution_count": 10,
   "metadata": {
    "id": "qk7z0LV1TR6y",
    "scrolled": true
   },
   "outputs": [
    {
     "name": "stdout",
     "output_type": "stream",
     "text": [
      "  (0, 0)\t1.0\n",
      "  (1, 1)\t1.0\n",
      "  (2, 2)\t1.0\n",
      "  (3, 3)\t1.0\n",
      "  (4, 4)\t1.0\n",
      "  (5, 5)\t1.0\n",
      "  (6, 6)\t1.0\n",
      "  (7, 7)\t1.0\n",
      "  (8, 8)\t1.0\n",
      "  (9, 9)\t1.0\n",
      "  (10, 10)\t1.0\n",
      "  (11, 11)\t1.0\n",
      "  (12, 12)\t1.0\n",
      "  (13, 13)\t1.0\n",
      "  (14, 14)\t1.0\n",
      "  (15, 15)\t1.0\n",
      "  (16, 16)\t1.0\n",
      "  (17, 17)\t1.0\n",
      "  (18, 18)\t1.0\n",
      "  (19, 19)\t1.0\n",
      "  (20, 20)\t1.0\n",
      "  (21, 21)\t1.0\n",
      "  (22, 22)\t1.0\n",
      "  (23, 23)\t1.0\n",
      "  (24, 24)\t1.0\n",
      "  :\t:\n",
      "  (72, 75)\t1.0\n",
      "  (73, 76)\t1.0\n",
      "  (74, 77)\t1.0\n",
      "  (75, 78)\t1.0\n",
      "  (76, 79)\t1.0\n",
      "  (77, 80)\t1.0\n",
      "  (78, 81)\t1.0\n",
      "  (79, 82)\t1.0\n",
      "  (80, 83)\t1.0\n",
      "  (81, 84)\t1.0\n",
      "  (82, 85)\t1.0\n",
      "  (83, 86)\t1.0\n",
      "  (84, 87)\t1.0\n",
      "  (85, 88)\t1.0\n",
      "  (86, 89)\t1.0\n",
      "  (87, 90)\t1.0\n",
      "  (88, 91)\t1.0\n",
      "  (89, 92)\t1.0\n",
      "  (90, 93)\t1.0\n",
      "  (91, 94)\t1.0\n",
      "  (92, 95)\t1.0\n",
      "  (93, 96)\t1.0\n",
      "  (94, 97)\t1.0\n",
      "  (95, 98)\t1.0\n",
      "  (96, 99)\t1.0\n",
      "[ 0.06514582 -2.76683217  1.4224609   2.94436768  2.14748068 -1.08915159\n",
      " -6.40387909 -1.00090041  4.17206421  6.06096021  1.13322406 -7.56285348\n",
      " -4.23193788  1.7203599   6.53317811  4.05409617 -4.91062075 -4.45432187\n",
      " -1.23403982  4.54231538  4.96702172 -2.14115126 -3.17548324 -2.03295914\n",
      "  1.63281501  3.55624734 -0.71523459 -0.64894367 -0.7935505   0.06787771\n",
      "  0.92563041 -1.39434358  0.53439072  1.08398874  0.90709126  0.02242361\n",
      " -3.21549239 -0.14490765  2.11607675  2.72044873  0.72706817 -3.9338362\n",
      " -1.89123047  0.97999961  3.888654    2.98461713 -3.15295388 -3.63890576\n",
      " -1.70885806  3.73354913  5.11584879 -0.90481861 -3.53362442 -3.91417785\n",
      "  1.54463963  4.76798198  1.67840222 -1.26776548 -4.27316062 -0.99085325\n",
      "  3.18636368  2.72781974  1.16867535 -3.1156715  -2.09855214  0.98085167\n",
      "  1.60078503  1.69974761 -1.09838863 -0.3436232   0.65693111 -0.43645297\n",
      " -0.35535173 -1.31229681  1.86390995  3.11165212 -0.11709769 -2.90124276\n",
      " -3.67831829  1.43712448  5.75967961  2.44976887 -3.0154759  -5.99494632\n",
      " -1.47868479  5.61467767  5.34551581  0.13042696 -5.54678012 -5.00616504\n",
      "  2.50121059  5.07046415  3.00025325 -1.84794795 -5.01198715 -0.25796116\n",
      "  2.26724007  2.68439783  0.78348523 -2.48783136]\n",
      "Generation took 0.0 ms\n",
      "Solution took 10.94198226928711 ms\n",
      "Memory used: 4664 bytes\n"
     ]
    },
    {
     "name": "stderr",
     "output_type": "stream",
     "text": [
      "C:\\Users\\dedko\\AppData\\Local\\Programs\\Python\\Python39\\lib\\site-packages\\scipy\\sparse\\linalg\\dsolve\\linsolve.py:144: SparseEfficiencyWarning: spsolve requires A be CSC or CSR matrix format\n",
      "  warn('spsolve requires A be CSC or CSR matrix format',\n"
     ]
    }
   ],
   "source": [
    "import sys as ss\n",
    "import scipy\n",
    "import numpy as np\n",
    "from scipy.sparse.linalg import spsolve\n",
    "\n",
    "t1 = time.time()\n",
    "\n",
    "Ap, As, An, Aw, Ae = np.ones(N), np.ones(N), np.ones(N), np.ones(N), np.ones(N)\n",
    "diagonals = [Ap, As, An, Aw, Ae]\n",
    "A = scipy.sparse.diags(diagonals, [0, -1, 1, -m, m])\n",
    "# убрали .toarray() - чтобы сохранить разреженную форму\n",
    "\n",
    "# https://docs.scipy.org/doc/scipy/reference/sparse.linalg.html#module-scipy.sparse.linalg \n",
    "mem = ss.getsizeof(Ap)*5 + ss.getsizeof(diagonals) + ss.getsizeof(A)\n",
    "\n",
    "t2 = time.time()\n",
    "\n",
    "x = spsolve(A,b)\n",
    "print(A, x, sep = '\\n')\n",
    "\n",
    "t3 = time.time()\n",
    "\n",
    "print(\"Generation took %s ms\" % ((t2 - t1) * 1000))\n",
    "print(\"Solution took %s ms\" % ((t3 - t2) * 1000))\n",
    "print(\"Memory used: {} bytes\".format(mem))"
   ]
  },
  {
   "cell_type": "markdown",
   "metadata": {},
   "source": [
    "Как видно, третий метод дает самое быстрое решение и требует меньше всего пямяти. Т.к. идеологически генераторы матриц совпадают, реализуем генерацию лишь третьим методом. И если честно, условие не вполне понятно, так что да будет вот такой вот костыль."
   ]
  },
  {
   "cell_type": "code",
   "execution_count": null,
   "metadata": {},
   "outputs": [],
   "source": [
    "class SpGenerator:\n",
    "    def __init__(self, n, m):\n",
    "        n = n\n",
    "        m = m\n",
    "    \n",
    "    def rand(self):\n",
    "        Ap, As, An, Aw, Ae = np.random.rand(n), np.random.rand(n), np.random.rand(n), np.random.rand(n), np.random.rand(n)\n",
    "        diagonals = [Ap, As, An, Aw, Ae]\n",
    "        return scipy.sparse.diags(diagonals, [0, -1, 1, -m, m])\n",
    "    \n",
    "    def eps(self, e=1e-2)\n",
    "        diagonals = []\n",
    "        for i in range(5):\n",
    "            diagonals.append(e - 2*e*np.random.rand(n))\n",
    "        return scipy.sparse.diags(diagonals, [0, -1, 1, -m, m])"
   ]
  },
  {
   "cell_type": "markdown",
   "metadata": {
    "id": "sS3EHa1aKmJi"
   },
   "source": [
    "# Задача 2\n"
   ]
  },
  {
   "cell_type": "markdown",
   "metadata": {
    "id": "nMUUtmljQZO1"
   },
   "source": [
    "В третьем методе из предыдущей задачи для повышения производительности можно использовать sparse.linalg.splu(A).solve(b) , который использует LU-декомпозицию, после чего объект SuperLU  имеет свой собственный метод solve.\n",
    "\n",
    "Реализуйте генератор матриц из первого задания, используя этот метод. \n",
    "https://docs.scipy.org/doc/scipy/reference/sparse.linalg.html#module-scipy.sparse.linalg   \n",
    "\n",
    "Убедитесь измерением времени работы, что он работает быстрее. Однако третий метод из предыдущей задачи считается самым предпочтительным. Найдите, в чём недостаток предложенного в этой задаче метода, и докажите его с помощью измерений.\n",
    "\n",
    "Для измерений можно использовать \n",
    "\n",
    "https://docs.python.org/3/library/resource.html#resource-usage  "
   ]
  },
  {
   "cell_type": "code",
   "execution_count": 25,
   "metadata": {
    "scrolled": false
   },
   "outputs": [
    {
     "name": "stdout",
     "output_type": "stream",
     "text": [
      "  (0, 0)\t1.0\n",
      "  (1, 0)\t1.0\n",
      "  (3, 0)\t1.0\n",
      "  (0, 1)\t1.0\n",
      "  (1, 1)\t1.0\n",
      "  (2, 1)\t1.0\n",
      "  (4, 1)\t1.0\n",
      "  (1, 2)\t1.0\n",
      "  (2, 2)\t1.0\n",
      "  (3, 2)\t1.0\n",
      "  (5, 2)\t1.0\n",
      "  (0, 3)\t1.0\n",
      "  (2, 3)\t1.0\n",
      "  (3, 3)\t1.0\n",
      "  (4, 3)\t1.0\n",
      "  (6, 3)\t1.0\n",
      "  (1, 4)\t1.0\n",
      "  (3, 4)\t1.0\n",
      "  (4, 4)\t1.0\n",
      "  (5, 4)\t1.0\n",
      "  (7, 4)\t1.0\n",
      "  (2, 5)\t1.0\n",
      "  (4, 5)\t1.0\n",
      "  (5, 5)\t1.0\n",
      "  (6, 5)\t1.0\n",
      "  :\t:\n",
      "  (93, 94)\t1.0\n",
      "  (94, 94)\t1.0\n",
      "  (95, 94)\t1.0\n",
      "  (97, 94)\t1.0\n",
      "  (92, 95)\t1.0\n",
      "  (94, 95)\t1.0\n",
      "  (95, 95)\t1.0\n",
      "  (96, 95)\t1.0\n",
      "  (98, 95)\t1.0\n",
      "  (93, 96)\t1.0\n",
      "  (95, 96)\t1.0\n",
      "  (96, 96)\t1.0\n",
      "  (97, 96)\t1.0\n",
      "  (99, 96)\t1.0\n",
      "  (94, 97)\t1.0\n",
      "  (96, 97)\t1.0\n",
      "  (97, 97)\t1.0\n",
      "  (98, 97)\t1.0\n",
      "  (95, 98)\t1.0\n",
      "  (97, 98)\t1.0\n",
      "  (98, 98)\t1.0\n",
      "  (99, 98)\t1.0\n",
      "  (96, 99)\t1.0\n",
      "  (98, 99)\t1.0\n",
      "  (99, 99)\t1.0\n",
      "[ 0.06514582 -2.76683217  1.4224609   2.94436768  2.14748068 -1.08915159\n",
      " -6.40387909 -1.00090041  4.17206421  6.06096021  1.13322406 -7.56285348\n",
      " -4.23193788  1.7203599   6.53317811  4.05409617 -4.91062075 -4.45432187\n",
      " -1.23403982  4.54231538  4.96702172 -2.14115126 -3.17548324 -2.03295914\n",
      "  1.63281501  3.55624734 -0.71523459 -0.64894367 -0.7935505   0.06787771\n",
      "  0.92563041 -1.39434358  0.53439072  1.08398874  0.90709126  0.02242361\n",
      " -3.21549239 -0.14490765  2.11607675  2.72044873  0.72706817 -3.9338362\n",
      " -1.89123047  0.97999961  3.888654    2.98461713 -3.15295388 -3.63890576\n",
      " -1.70885806  3.73354913  5.11584879 -0.90481861 -3.53362442 -3.91417785\n",
      "  1.54463963  4.76798198  1.67840222 -1.26776548 -4.27316062 -0.99085325\n",
      "  3.18636368  2.72781974  1.16867535 -3.1156715  -2.09855214  0.98085167\n",
      "  1.60078503  1.69974761 -1.09838863 -0.3436232   0.65693111 -0.43645297\n",
      " -0.35535173 -1.31229681  1.86390995  3.11165212 -0.11709769 -2.90124276\n",
      " -3.67831829  1.43712448  5.75967961  2.44976887 -3.0154759  -5.99494632\n",
      " -1.47868479  5.61467767  5.34551581  0.13042696 -5.54678012 -5.00616504\n",
      "  2.50121059  5.07046415  3.00025325 -1.84794795 -5.01198715 -0.25796116\n",
      "  2.26724007  2.68439783  0.78348523 -2.48783136]\n",
      "Generation took 0.9753704071044922 ms\n",
      "Solution took 2.9926300048828125 ms\n",
      "Memory used: 4664 bytes\n"
     ]
    }
   ],
   "source": [
    "t1 = time.time()\n",
    "\n",
    "Ap, As, An, Aw, Ae = np.ones(N), np.ones(N), np.ones(N), np.ones(N), np.ones(N)\n",
    "diagonals = [Ap, As, An, Aw, Ae]\n",
    "A = scipy.sparse.csc_matrix(scipy.sparse.diags(diagonals, [0, -1, 1, -m, m]))\n",
    "# убрали .toarray() - чтобы сохранить разреженную форму\n",
    "\n",
    "# https://docs.scipy.org/doc/scipy/reference/sparse.linalg.html#module-scipy.sparse.linalg \n",
    "mem = ss.getsizeof(Ap)*5 + ss.getsizeof(diagonals) + ss.getsizeof(A)\n",
    "\n",
    "t2 = time.time()\n",
    "\n",
    "x = scipy.sparse.linalg.splu(A).solve(b)\n",
    "print(A, x, sep = '\\n')\n",
    "\n",
    "t3 = time.time()\n",
    "\n",
    "print(\"Generation took %s ms\" % ((t2 - t1) * 1000))\n",
    "print(\"Solution took %s ms\" % ((t3 - t2) * 1000))\n",
    "print(\"Memory used: {} bytes\".format(mem))"
   ]
  },
  {
   "cell_type": "markdown",
   "metadata": {},
   "source": [
    "Ускорение налицо! Модуль ресурсов не подключается, но предположительно данный метод просто потребляет много памяти, отчего и не рекомндуется к использованию."
   ]
  },
  {
   "cell_type": "markdown",
   "metadata": {
    "id": "gpR6GBRtKmXq"
   },
   "source": [
    "# Задача 3"
   ]
  },
  {
   "cell_type": "markdown",
   "metadata": {
    "id": "xQ7BfspuTsOt"
   },
   "source": [
    "После первой стадии метода вращений Гивенса система имеет вид \n",
    "\n",
    "\n",
    "$a_{11}^{(n-1)} x_{1}+a_{12}^{(n-1)} x_{2}+a_{13}^{(n-1)} x_{3}+\\ldots+a_{1 n}^{(n-1)} x_{n}=b_{1}^{(n-1)}$,\n",
    "\n",
    "$a_{22}^{(1)} x_{2}+a_{23}^{(1)} x_{3}+\\ldots+a_{2 n}^{(1)} x_{n}=b_{2}^{(1)}$,\n",
    "\n",
    "\\.......................................................................\n",
    "  \n",
    "$a_{n 2}^{(1)} x_{2}+a_{n 3}^{(1)} x_{3}+\\ldots+a_{n n}^{(1)} x_{n}=b_{n}^{(1)}$\n",
    "\n",
    "\n",
    "Доказать следующие формулы:\n",
    "\n",
    "$$\n",
    "\\begin{aligned}\n",
    "a_{1 j}^{(l-1)}=& c_{1 l} a_{1 j}^{(l-2)}+s_{1 l} a_{l j}, \\ \\ a_{l j}^{(1)} =-s_{1 l} a_{1 j}^{(l-2)}+c_{1 l} a_{l j}, \\quad a_{1 j}^{(0)}=a_{1 j},\n",
    " \\\\\n",
    "b_{1}^{(l-1)}=& c_{1 l} b_{1}^{(l-2)}+s_{1 l} b_{l}, \\ \\ b_{l}^{(1)} =-s_{1 l} b_{1}^{(l-2)}+c_{1 l} b_{l}, \n",
    "\\\\\n",
    "c_{1 l} &=\\frac{a_{11}^{(l-2)}}{\\sqrt{\\left(a_{11}^{(l-2)}\\right)^{2}+a_{l 1}^{2}}}, \\quad s_{1 l} =\\frac{a_{l 1}}{\\sqrt{\\left(a_{11}^{(l-2)}\\right)^{2}+a_{l 1}^{2}}} & \\\\\n",
    " & l=2,3, \\ldots, n .\n",
    "\\end{aligned}\n",
    "$$"
   ]
  },
  {
   "cell_type": "markdown",
   "metadata": {
    "id": "WJxMpmGHYUGH"
   },
   "source": [
    "После второй стадии метода вращения Гивенса система уравнений имеет вид: \n",
    "\n",
    "$$\n",
    "\\begin{aligned}\n",
    "a_{11}^{(n-1)} x_{1}+a_{12}^{(n-1)} x_{2}+& a_{13}^{(n-1)} x_{3}+\\ldots+a_{1 n}^{(n-1)} x_{n}=b_{1}^{(n-1)} \\\\\n",
    "a_{22}^{(n-1)} x_{2}+& a_{23}^{(n-1)} x_{3}+\\ldots+a_{2 n}^{(n-1)} x_{n}=b_{2}^{(n-1)} \\\\\n",
    "& a_{33}^{(2)} x_{3}+\\ldots+a_{3 n}^{(2)} x_{n}=b_{3}^{(2)} \\\\\n",
    "& \\ldots \\ldots \\ldots \\ldots \\ldots \\ldots \\ldots \\ldots \\ldots \\ldots \\ldots \\ldots \\ldots \\ldots \\\\\n",
    "& a_{n 3}^{(2)} x_{3}+\\ldots+a_{n n}^{(2)} x_{n}=b_{n}^{(2)}\n",
    "\\end{aligned}\n",
    "$$\n",
    "Доказать следующие формулы\n",
    "$$\n",
    "\\begin{aligned}\n",
    "a_{2 j}^{(l-1)}=& c_{2 l} a_{2 j}^{(l-2)}+s_{2 l} a_{l j}^{(1)}, \\ \\ \\ a_{l j}^{(2)}=-s_{2 l} a_{2 j}^{(l-2)}+c_{2 l} a_{l j}^{(1)} \\\\\n",
    "&  j=2,3, \\ldots, n \\\\\n",
    "b_{2}^{(l-1)}=& c_{2 l} b_{2}^{(l-2)}+s_{2 l} b_{l}^{(1)},\\ \\ \\ b_{l}^{(2)}=-s_{2 l} b_{2}^{(l-2)}+c_{2 l} b_{l}^{(1)} \\\\\n",
    "&  \n",
    "l=3,4, \\ldots, n \\\\\n",
    "c_{2 l}=& \\frac{a_{22}^{(l-2)}}{\\left(a_{22}^{(l-2)}\\right)^{2}+\\left(a_{l 2}^{(1)}\\right)^{2}}, \\ \\ \\ s_{2 l}=\\frac{a_{l 2}^{(1)}}{\\sqrt{\\left(a_{22}^{(l-2)}\\right)^{2}+\\left(a_{l 2}^{(1)}\\right)^{2}}}\n",
    "\\end{aligned}\n",
    "$$"
   ]
  },
  {
   "cell_type": "markdown",
   "metadata": {
    "id": "6gQu1sLtYgS1"
   },
   "source": [
    "Доказать следующие формулы \n",
    "\n",
    "$a_{2 j}^{(l-1)}=c_{2 l} a_{2 j}^{(l-2)}+s_{2 l} a_{l j}^{(1)}, \\quad a_{l j}^{(2)}=-s_{2 l} a_{2 j}^{(l-2)}+c_{2 l} a_{l j}^{(1)}$,\n",
    "$j=2,3, \\ldots, n$\n",
    "$b_{2}^{(l-1)}=c_{2 l} b_{2}^{(l-2)}+s_{2 l} b_{l}^{(1)}, \\quad b_{l}^{(2)}=-s_{2 l} b_{2}^{(l-2)}+c_{2 l} b_{l}^{(1)}$,\n",
    "$l=3,4, \\ldots, n$\n",
    "$c_{2 l}=\\frac{a_{22}^{(l-2)}}{\\sqrt{\\left(a_{22}^{(l-2)}\\right)^{2}+\\left(a_{l 2}^{(1)}\\right)^{2}}}, \\quad s_{2 l}=\\frac{a_{l 2}^{(1)}}{\\sqrt{\\left(a_{22}^{(l-2)}\\right)^{2}+\\left(a_{l 2}^{(1)}\\right)^{2}}}$\n",
    "\n",
    "После (n-1) шагов метода Гивенса получаем систему;\n",
    "\n",
    "$$\n",
    "\\begin{array}{r}\n",
    "a_{11}^{(n-1)} x_{1}+a_{12}^{(n-1)} x_{2}+a_{13}^{(n-1)} x_{3}+\\ldots+a_{1 n}^{(n-1)} x_{n}=b_{1}^{(n-1)} \\\\\n",
    "a_{22}^{(n-1)} x_{2}+a_{23}^{(n-1)} x_{3}+\\ldots+a_{2 n}^{(n-1)} x_{n}=b_{2}^{(n-1)} \\\\\n",
    "\\ldots \\ldots \\ldots \\ldots \\ldots \\ldots \\ldots \\ldots \\ldots \\ldots \\ldots \\ldots \\ldots \\ldots \\ldots \\ldots \\ldots \\ldots \\ldots \\ldots \\ldots \\ldots \\ldots  \\\\\n",
    "a_{n n}^{(n-1)} x_{n}=b_{n}^{(n-1)}\n",
    "\\end{array}\n",
    "$$\n",
    "где"
   ]
  },
  {
   "cell_type": "markdown",
   "metadata": {
    "id": "uGoR1M4uRCrZ"
   },
   "source": [
    "$$\n",
    "\\begin{aligned}\n",
    "a_{k j}^{(l-1)}=& c_{k l} a_{k j}^{(l-2)}+s_{k l} a_{l j}^{(k-1)}, \\ \\ \\  a_{l j}^{(k)}=-s_{k l} a_{k j}^{(l-2)}+c_{k l} a_{l j}^{(k-1)}, \\\\\n",
    "&  j=k, k+1, \\ldots, n, \\\\\n",
    "b_{k}^{(l-1)}=& c_{k l} b_{k}^{(l-2)}+s_{k l} b_{l}^{(k-1)},\\ \\ \\  b_{l}^{(k)}=-s_{k l} b_{k}^{(l-2)}+c_{k l} b_{l}^{(k-1)}, \\\\\n",
    "& k=1, \\ldots, n, \\ \\ \\ \\ \\ \\  l=k+1, \\ldots, n,\n",
    "\\end{aligned}\n",
    "$$\n",
    "a\n",
    "$$\n",
    "c_{k l}=\\frac{a_{k k}^{(l-2)}}{\\sqrt{\\left(a_{k k}^{(l-2)}\\right)^{2}+\\left(a_{l k}^{(k-1)}\\right)^{2}}}, \\quad s_{k l}=\\frac{a_{l k}^{(k-1)}}{\\sqrt{\\left(a_{k k}^{(l-2)}\\right)^{2}+\\left(a_{l k}^{(k-1)}\\right)^{2}}}\n",
    "$$\n",
    "\n",
    "Доказать, что метод Гивенса реализует QR-разложение матрицы.\n",
    "\n",
    "$$\n",
    "A=Q R\n",
    "$$\n",
    "\n",
    "где $Q-$ ортогональная матрица, а $R-$ верхняя треугольная с положительными элементами на главной диагонали."
   ]
  },
  {
   "cell_type": "markdown",
   "metadata": {},
   "source": [
    "-------------------------------------------\n",
    "Все выглядит очень страшно, но идея проста. Мы обнуляем первый столбец поочередно для двух строк выполняя вращение, т.е. если первая $a$ а вторая $b$, то строки станут $ca+sb$ и $-sa+cb$. Подбираем $c,s$ из условия:\n",
    "\n",
    "$c^2 + s^2 =1$ и $-sa[1]+cb[1]=0$\n",
    "\n",
    "Т.е. \n",
    "\n",
    "$c=\\frac{a[1]}{\\sqrt{a[1]^2+b[1]^2}}$\n",
    "\n",
    "$s=\\frac{b[1]}{\\sqrt{a[1]^2+b[1]^2}}$"
   ]
  },
  {
   "attachments": {
    "image.png": {
     "image/png": "[encoded data removed]"
    }
   },
   "cell_type": "markdown",
   "metadata": {},
   "source": [
    "Вид матрицы, осуществляющей такой поворот для строк $i,j$:\n",
    "\n",
    "![image.png](attachment:image.png)\n",
    "\n",
    "И все они ортогональны. Выходит, т.к. после процедуры имее верхнетреугольную матрицу с положительными элементами на главной диагонали*, действительно $QR$-разложение.\n",
    "\n",
    "\\* - Они положительны, т.к. из определения $ca[1]+sb[1] = \\frac{a[1]^2+b[1]^2}{\\sqrt{a[1]^2+b[1]^2}}$"
   ]
  },
  {
   "cell_type": "markdown",
   "metadata": {
    "id": "8-476ZEtKmk5"
   },
   "source": [
    "# Задача 4"
   ]
  },
  {
   "cell_type": "markdown",
   "metadata": {
    "id": "xzG3RPf-T07c"
   },
   "source": [
    "Покажите, что при больших n метод Гивенса требует\n",
    "$$\n",
    "\\approx 4 n^{3 / 3}\n",
    "$$\n",
    "действий умножения. \n",
    "\n",
    "Докажите, что метод Гаусса требует примерно в 4 раза меньше.\n",
    "Примените и тот, и другой метод для решения систем уравнений, используя библиотечные функции, и продемонстрируйте эту разницу измерением времени работы.\n",
    "\n",
    "-----------------------------"
   ]
  },
  {
   "cell_type": "markdown",
   "metadata": {},
   "source": [
    "При каждом обнулении элемента требуетс найти c и s, на что уходит 2 сложение, 2 умножения, 2 деления. Обнулить нужно $(n-1)n/2$ элемента в столбцах высоты от $n-1$ до 1. Для каждого такого элемента нужно выполнить еще от $2*n + 1$ до $3$ умножений при пересчете матрицы. Итого на элемент из i столбца уходит:\n",
    "\n",
    "$$\n",
    "(4 + 2(n-i+1) + 1)\n",
    "$$\n",
    "\n",
    "На столбец:\n",
    "$$\n",
    "(7-2i+2n)*(n-i)\n",
    "$$\n",
    "\n",
    "Суммируем по i от 1 до n:\n",
    "\n",
    "$\\approx \\frac{2}{3}n^3$\n",
    "\n",
    "Что-то не сошлось."
   ]
  },
  {
   "cell_type": "markdown",
   "metadata": {},
   "source": [
    "Для доказательств библиотечными функциями используем модуль time (основное время как раз дает умножение) и будем считать что необходимые методы реализованы в scipy.linalg.qr и scipy.linalg.lu"
   ]
  },
  {
   "cell_type": "code",
   "execution_count": 28,
   "metadata": {},
   "outputs": [],
   "source": [
    "import scipy.linalg\n",
    "import time\n",
    "import matplotlib.pyplot as plt"
   ]
  },
  {
   "cell_type": "code",
   "execution_count": 37,
   "metadata": {},
   "outputs": [],
   "source": [
    "N = 400\n",
    "ns = np.arange(3, N, 3)\n",
    "lut = []\n",
    "qrt =[]\n",
    "\n",
    "for n in ns:\n",
    "    A = np.random.rand(N, N)\n",
    "    t1 = time.time()\n",
    "    p, l, u = scipy.linalg.lu(A)\n",
    "    t2 = time.time()\n",
    "    q, r = scipy.linalg.qr(A)\n",
    "    t3 = time.time()\n",
    "    lut.append(t2-t1)\n",
    "    qrt.append(t3-t2)"
   ]
  },
  {
   "cell_type": "code",
   "execution_count": 38,
   "metadata": {
    "scrolled": true
   },
   "outputs": [
    {
     "data": {
      "image/png": "[encoded data removed]",
      "text/plain": [
       "<Figure size 432x288 with 1 Axes>"
      ]
     },
     "metadata": {
      "needs_background": "light"
     },
     "output_type": "display_data"
    }
   ],
   "source": [
    "plt.plot(ns, lut, 'k-')\n",
    "plt.plot(ns, qrt, c='orange', ls='--')\n",
    "plt.show()"
   ]
  },
  {
   "cell_type": "code",
   "execution_count": 42,
   "metadata": {
    "scrolled": true
   },
   "outputs": [
    {
     "data": {
      "text/plain": [
       "[<matplotlib.lines.Line2D at 0x1df2fef90a0>]"
      ]
     },
     "execution_count": 42,
     "metadata": {},
     "output_type": "execute_result"
    },
    {
     "data": {
      "image/png": "[encoded data removed]",
      "text/plain": [
       "<Figure size 432x288 with 1 Axes>"
      ]
     },
     "metadata": {
      "needs_background": "light"
     },
     "output_type": "display_data"
    }
   ],
   "source": [
    "plt.plot(ns, np.array(qrt)/np.array(lut))"
   ]
  },
  {
   "cell_type": "markdown",
   "metadata": {},
   "source": [
    "Не 4, но 2. По порядку сошлось и ладно. А вообще, LU разложение по идее чуть сложнее простого гаусса будет, так что все закономерно."
   ]
  },
  {
   "cell_type": "markdown",
   "metadata": {
    "id": "s8jGlqhJKmpB"
   },
   "source": [
    "# Задача 5"
   ]
  },
  {
   "cell_type": "markdown",
   "metadata": {
    "id": "smdRrcYuT4he"
   },
   "source": [
    "Реализовать итерационный метод Гаусса решения СЛАУ и метод простой итерации. Использовать данные методы для решения систем различных размеров. Оценить скорость работы методов (необходимое количество операций на одну итерацию) в зависимости от размера системы. "
   ]
  },
  {
   "cell_type": "code",
   "execution_count": 9,
   "metadata": {},
   "outputs": [],
   "source": [
    "import numpy as np\n",
    "from scipy import linalg as lg"
   ]
  },
  {
   "cell_type": "code",
   "execution_count": 97,
   "metadata": {},
   "outputs": [],
   "source": [
    "def gauss_seidel(A, b, eps=1e-8, count=False):\n",
    "    nb = np.reshape(b, (-1,1))\n",
    "    LD = np.tril(A, k=0)\n",
    "    U = np.triu(A, k=1)\n",
    "    LDinv = lg.solve_triangular(LD, np.identity(LD.shape[0]), lower=True)\n",
    "    LDinvU = -LDinv @ U\n",
    "    LDb = LDinv @ nb\n",
    "    q = np.linalg.norm(LDinvU, ord=2)\n",
    "    x = np.zeros((A.shape[0], 1))\n",
    "    xn = LDinvU @ x + LDb\n",
    "    k = 1\n",
    "    while(np.linalg.norm((xn - x), ord=2) > (1-q)*eps):\n",
    "        x = xn\n",
    "        k += 1\n",
    "        xn = LDinvU @ x + LDb\n",
    "    if count:\n",
    "        return (xn, k)\n",
    "    else:\n",
    "        return xn"
   ]
  },
  {
   "cell_type": "code",
   "execution_count": 102,
   "metadata": {},
   "outputs": [],
   "source": [
    "# finding parametre for S-I method\n",
    "def find_tau(A):\n",
    "    E = np.eye(A.shape[0])\n",
    "    delta = 1\n",
    "    t = 0\n",
    "    dt = 1e-3\n",
    "    q = np.linalg.norm(E-t*A, ord=2)\n",
    "    k = 0\n",
    "    while q > 0.8:\n",
    "        dq = -np.linalg.norm(E-(t+dt)*A, ord=2) + q\n",
    "        t += dq * delta\n",
    "        k += 1\n",
    "        if(k>100):\n",
    "            k = 0\n",
    "            delta *= 0.1\n",
    "        q = np.linalg.norm(E-t*A, ord=2)\n",
    "        \n",
    "    return (t, q)"
   ]
  },
  {
   "cell_type": "code",
   "execution_count": 99,
   "metadata": {},
   "outputs": [],
   "source": [
    "def simple_iteration(A, b, eps=1e-8, count=False):\n",
    "    nb = np.reshape(b, (-1,1))\n",
    "    t, q = find_tau(A)\n",
    "    M = np.eye(A.shape[0]) - t*A\n",
    "    tb = t*nb\n",
    "    x = np.zeros(tb.shape)\n",
    "    xn = M @ x + tb\n",
    "    k = 1\n",
    "    while(np.linalg.norm(xn-x, ord=2) > eps*(1-q)):\n",
    "        k += 1\n",
    "        x = xn\n",
    "        xn= M @ x + tb\n",
    "    if count:\n",
    "        return (xn, k)\n",
    "    else:\n",
    "        return xn"
   ]
  },
  {
   "cell_type": "code",
   "execution_count": 101,
   "metadata": {
    "scrolled": true
   },
   "outputs": [
    {
     "data": {
      "image/png": "[encoded data removed]",
      "text/plain": [
       "<Figure size 432x288 with 1 Axes>"
      ]
     },
     "metadata": {
      "needs_background": "light"
     },
     "output_type": "display_data"
    }
   ],
   "source": [
    "N = 20\n",
    "eps = 1e-8\n",
    "ns = np.arange(2, N)\n",
    "gs = []\n",
    "si = []\n",
    "for n in range(2, N):\n",
    "    kk1 = []\n",
    "    kk2 = []\n",
    "    for _ in range(20):\n",
    "        # need to satisfy diagonal domination\n",
    "        A = (10 - 20*np.random.rand(n, n)) + 10*n*np.eye(n)\n",
    "        b= 10 - 20*np.random.rand(n)\n",
    "        mine1, k1 = gauss_seidel(A, b, eps=eps, count=True)\n",
    "        mine2, k2 = simple_iteration(A, b, eps=eps, count=True)\n",
    "        kk1.append(k1)\n",
    "        kk2.append(k2)\n",
    "    gs.append(np.mean(kk1))\n",
    "    si.append(np.mean(kk2))\n",
    "\n",
    "import matplotlib.pyplot as plt\n",
    "plt.scatter(ns, gs, c=\"red\")\n",
    "plt.scatter(ns, si, c='blue')\n",
    "plt.show()\n",
    "    "
   ]
  },
  {
   "cell_type": "markdown",
   "metadata": {},
   "source": [
    "Как видно метод Гаусса-Зейделя дает лучшую сходимость (требуется меньше итераций)\n",
    "\n",
    "Скорость методов:\n",
    "Гаусс-Зейдель: на каждом шаге n новых х, каждый со сложостью в n сложений и 1 деление, т.е. n^2\n",
    "МПИ: на каждом шаге перемножается матрица на вектор + еще n сложений, т.е. n^2\n",
    "\n",
    "Однако число итераций в МПИ раз в 5 больше + надо как-то искать параметр, что ни разу не дешево в моей костыльной реализации градиентным спуском"
   ]
  },
  {
   "cell_type": "markdown",
   "metadata": {
    "id": "634QUTkyKnWR"
   },
   "source": [
    "# Задача 6"
   ]
  },
  {
   "cell_type": "markdown",
   "metadata": {
    "id": "cxldprgmTnF1"
   },
   "source": [
    "Если использовать метод простых итераций для симметричной положительно определённой матрицы, то верна теорема:\n",
    "\n",
    "Пусть А - симметричная положительно определенная матрица:\n",
    "\n",
    " $A^{T}=A, \\quad \\gamma_{1} E \\leq A \\leq \\gamma_{2} E$, \n",
    " \n",
    " где положительные постоянные $\\gamma_{1}, \\gamma_{2}-$ соответственно минимальное и максимальное собственные значения матрицы $A .$ Тогда максимальная скорость сходимости итерационного процесса достигается при $\\tau=\\tau_{0}=2 /\\left(\\gamma_{1}+\\gamma_{2}\\right)$, при этом\n",
    " \n",
    "$$\n",
    "\\left\\|\\delta^{k+1}\\right\\| \\leq q\\left\\|\\delta^{k}\\right\\|, \\quad q=\\frac{1-\\gamma_{1} / \\gamma_{2}}{1+\\gamma_{1} / \\gamma_{2}}\n",
    "$$"
   ]
  },
  {
   "cell_type": "markdown",
   "metadata": {
    "id": "0Sg2K23pcgYa"
   },
   "source": [
    "Ответьте на вопрос - при каких значениях параметра метода простой итерации он сходится? Напишите генератор случайных симметричных положительно определённых матриц и программу, которая проверяет данное утверждение, выбирая несколько значений параметра МПИ, лежащих в том диапазоне, в котором этот метод сходится.\n",
    "\n",
    "Проверка предусматривает вычисление скорости сходимости итерационного процесса путём сравнения невязок между собой. \n",
    "\n"
   ]
  },
  {
   "cell_type": "markdown",
   "metadata": {},
   "source": [
    "Достаточное условие - спектральный радиус 1-tA < 1, т.е. для любого $\\lambda_i$ верно $0$ < $\\tau$ < $2$/$\\lambda_i$, или $\\tau \\in (0, \\frac{2}{\\gamma_2}$)"
   ]
  },
  {
   "cell_type": "code",
   "execution_count": 44,
   "metadata": {},
   "outputs": [],
   "source": [
    "def sim_iter(A, b, t, eps=1e-3, steps=0):\n",
    "    tb = t*np.reshape(b, (-1,1))\n",
    "    M = np.eye(A.shape[0]) - t*A\n",
    "    x = np.zeros(tb.shape)\n",
    "    xn= M @ x + tb\n",
    "    k = 0\n",
    "    q = np.linalg.norm(M, ord=2)\n",
    "    print(np.linalg.eigvals(M))\n",
    "    print(M)\n",
    "    print(q)\n",
    "    while ((np.linalg.norm(xn-x, ord=2) > eps*(1-q)) and (steps==0)) or (k < steps):\n",
    "        k += 1\n",
    "        x = xn\n",
    "        xn= M @ x + tb\n",
    "    r = b - A @ xn \n",
    "    return (x, r)"
   ]
  },
  {
   "cell_type": "code",
   "execution_count": 45,
   "metadata": {},
   "outputs": [
    {
     "name": "stdout",
     "output_type": "stream",
     "text": [
      "[[7.71584851 8.60031074 8.03771508 8.04718494]\n",
      " [8.60031074 9.94846193 8.87497151 8.8785362 ]\n",
      " [8.03771508 8.87497151 8.60672305 8.51526856]\n",
      " [8.04718494 8.8785362  8.51526856 8.68547587]]\n",
      "[34.27264701  0.49618029  0.05723421  0.13044786]\n",
      "0.05825828488253832\n",
      "[0.66210532+0.j         0.98065653+0.j         1.01674293+0.01864585j\n",
      " 1.01674293-0.01864585j]\n",
      "[[ 0.91787104 -0.11022712 -0.07299302 -0.06046793]\n",
      " [-0.07244322  0.93556742 -0.09724842 -0.07904993]\n",
      " [-0.10240384 -0.09902027  0.90331109 -0.11442437]\n",
      " [-0.06089393 -0.08751437 -0.07125641  0.91949816]]\n",
      "1.0275845257920342\n",
      "[[-1.57790933e+08]\n",
      " [ 7.76407259e+07]\n",
      " [ 1.48985393e+08]\n",
      " [-8.44557876e+07]]\n",
      "[[-22548132.19559969]\n",
      " [-25390100.74307101]\n",
      " [ 64544711.80033585]\n",
      " [-16891182.0872694 ]]\n",
      "24.470676206888665\n"
     ]
    }
   ],
   "source": [
    "n = 4\n",
    "A = 2 - np.random.rand(n, n)\n",
    "As = A.T @ A\n",
    "b = (20 - 10*np.random.rand(n)).reshape(-1, 1)\n",
    "print(As)\n",
    "\n",
    "lds = np.linalg.eigvals(As)\n",
    "l1 = np.min(lds)\n",
    "l2 = np.max(lds)\n",
    "topt = 2/(l1+l2)\n",
    "print(lds)\n",
    "print(topt)\n",
    "x, r = sim_iter(A, b, topt, steps=1000)\n",
    "print(x)\n",
    "print(r)\n",
    "print(np.linalg.cond(A, p=2))"
   ]
  },
  {
   "cell_type": "markdown",
   "metadata": {},
   "source": [
    "Что-то все расходится"
   ]
  },
  {
   "cell_type": "code",
   "execution_count": null,
   "metadata": {},
   "outputs": [],
   "source": []
  }
 ],
 "metadata": {
  "colab": {
   "collapsed_sections": [
    "MeXTSdSfKdL2",
    "sS3EHa1aKmJi",
    "gpR6GBRtKmXq",
    "8-476ZEtKmk5",
    "s8jGlqhJKmpB",
    "634QUTkyKnWR"
   ],
   "name": "Problems_B3.ipynb",
   "provenance": [],
   "toc_visible": true
  },
  "kernelspec": {
   "display_name": "Python 3 (ipykernel)",
   "language": "python",
   "name": "python3"
  },
  "language_info": {
   "codemirror_mode": {
    "name": "ipython",
    "version": 3
   },
   "file_extension": ".py",
   "mimetype": "text/x-python",
   "name": "python",
   "nbconvert_exporter": "python",
   "pygments_lexer": "ipython3",
   "version": "3.9.7"
  }
 },
 "nbformat": 4,
 "nbformat_minor": 1
}
