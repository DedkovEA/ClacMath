{
 "cells": [
  {
   "cell_type": "markdown",
   "metadata": {
    "id": "MeXTSdSfKdL2"
   },
   "source": [
    "## *Задача 1* \n"
   ]
  },
  {
   "cell_type": "markdown",
   "metadata": {
    "id": "19smb2owQS40"
   },
   "source": [
    "Реализовать генератор матрциц, который должен поддерживать функции:\n",
    "* Генерация абсолютно случайной матрицы $n\\times m$\n",
    "* Генерация случайной диагональной матрицы $n\\times n$\n",
    "* Генерация случайной верхнетреугольной матрицы\n",
    "* Генерация случайной нижнетреугольной матрицы\n",
    "* Генерация симметричной матрицы\n",
    "* Генерация вырожденной матрицы\n",
    "* Генерация матрицы ступенчатого вида $n\\times n$ ранга $m$\n",
    "* Генерация возмущения матрицы $n\\times m$, каждый элемент которой не превосходит по модулю заданный $\\varepsilon$\n",
    "\n",
    "Оценить вероятность того, что созданная матрица будет вырожденной. \n",
    "\n",
    "Оценить величину нормы матрицы возмущений в зависимости от параметра $\\varepsilon$ (оценить верхную границу).\n"
   ]
  },
  {
   "cell_type": "code",
   "execution_count": 19,
   "metadata": {},
   "outputs": [],
   "source": [
    "import numpy as np"
   ]
  },
  {
   "cell_type": "code",
   "execution_count": 91,
   "metadata": {
    "scrolled": true
   },
   "outputs": [
    {
     "name": "stdout",
     "output_type": "stream",
     "text": [
      "[[ 38  97  33]\n",
      " [ 37 100  32]\n",
      " [ 44   2  95]\n",
      " [ 52  55  97]]\n",
      "[[29  0  0  0]\n",
      " [ 0 69  0  0]\n",
      " [ 0  0 90  0]\n",
      " [ 0  0  0 62]]\n",
      "[[62 96 21]\n",
      " [ 0 15 24]\n",
      " [ 0  0 60]\n",
      " [ 0  0  0]]\n",
      "[[56  0  0]\n",
      " [54 78  0]\n",
      " [62  4 94]\n",
      " [38 95 53]]\n",
      "[[36 26 79 26]\n",
      " [26 34 38 58]\n",
      " [79 38 58 94]\n",
      " [26 58 94 52]]\n",
      "[[279 129 181 110]\n",
      " [ 91  79  67  83]\n",
      " [ 90  43  38  26]\n",
      " [ 98   7  76   1]]\n",
      "0.0\n",
      "[[33 81 91  1]\n",
      " [ 0 17 46 49]\n",
      " [ 0  0 42 60]\n",
      " [ 0  0  0  0]]\n",
      "[[-0.16328001 -0.06970783  0.07549712]\n",
      " [ 0.1556351   0.114755   -0.01226585]\n",
      " [ 0.03147749  0.02297097  0.05920522]\n",
      " [-0.09211186  0.07410814  0.05353784]]\n"
     ]
    }
   ],
   "source": [
    "class Generator:\n",
    "    \n",
    "    def __init__(self, n, m, integer=False, maximum=10):\n",
    "        self.n = n\n",
    "        self.m = m\n",
    "        self.integer = integer\n",
    "        self.maximum = maximum\n",
    "        \n",
    "    # fix if you need another distribution of values    \n",
    "    def bake_shape(self, k, l, maximum=0):\n",
    "        if maximum == 0 :\n",
    "            maximum = self.maximum\n",
    "        if self.integer:\n",
    "            return np.int_(np.round(maximum * np.random.rand(k, l)))\n",
    "        else:\n",
    "            return maximum * np.random.rand(k, l)\n",
    "        \n",
    "    def full_random(self):\n",
    "        return self.bake_shape(self.n, self.m)\n",
    "    \n",
    "    def diagonal(self):\n",
    "        return np.int_(np.eye(self.n)) * self.bake_shape(self.n, self.n)\n",
    "    \n",
    "    def upper_triangular(self):\n",
    "        return np.int_(np.triu(np.ones((self.n, self.m)), 0))*self.bake_shape(self.n, self.m)\n",
    "    \n",
    "    def lower_triangular(self):\n",
    "        return np.int_(np.tril(np.ones((self.n, self.m)), 0))*self.bake_shape(self.n, self.m)\n",
    "    \n",
    "    def symmetrical(self):\n",
    "        matr = self.bake_shape(self.n, self.n, maximum=self.maximum/2)\n",
    "        return matr + matr.T\n",
    "    \n",
    "    def degenerate(self):\n",
    "        matr = self.bake_shape(self.n, self.n)\n",
    "        new_line = np.zeros(self.n)\n",
    "        for i in range(1, self.n):\n",
    "            new_line = new_line + matr[i]\n",
    "        matr[0] = new_line\n",
    "        return matr\n",
    "    \n",
    "    def ladder(self):\n",
    "        matr = np.int_(np.triu(np.ones(self.n)))\n",
    "        matr[self.m : , :] = 0\n",
    "        return matr * self.bake_shape(self.n, self.n)\n",
    "    \n",
    "    def perturbation(self, eps):\n",
    "        return 2*eps*np.random.rand(self.n, self.m) - eps\n",
    "        \n",
    "gen = Generator(4, 3, integer=True, maximum=100)\n",
    "print(gen.full_random())\n",
    "print(gen.diagonal())\n",
    "print(gen.upper_triangular())\n",
    "print(gen.lower_triangular())\n",
    "print(gen.symmetrical())\n",
    "print(gen.degenerate())\n",
    "print(np.linalg.det(gen.degenerate()))\n",
    "print(gen.ladder())\n",
    "print(gen.perturbation(0.2))"
   ]
  },
  {
   "cell_type": "markdown",
   "metadata": {},
   "source": [
    "Верхне-нижнетреугольные матрицы, а также случайная, диагональная и симметричная -- почти всегда невырождены, т.к. вырожденные матрица занимают в их пространствах множество меры нуль в силу того, что задаются как минимум одним уравнением на коэффициенты.\n",
    "Вырожденная и ступенчатая с рангом ниже n матрицы генерируется вырожденной с веротяностью 1\n",
    "\n",
    "Норма матрицы возмущений не больше нормы матрицы целиком состоящей из эпсилон. Для нее всякая порожденная вектором норма не превзойдет наибольшего собственного числа, которое равно $n\\varepsilon$"
   ]
  },
  {
   "cell_type": "markdown",
   "metadata": {
    "id": "sS3EHa1aKmJi"
   },
   "source": [
    "# Задача 2\n"
   ]
  },
  {
   "cell_type": "markdown",
   "metadata": {
    "id": "nMUUtmljQZO1"
   },
   "source": [
    "Используя ряд Маклорена, реализовать вычисление основных элементарных функций: \n",
    "* Экспонента\n",
    "* Натуральный логарифм\n",
    "* Синус\n",
    "* Косинус\n",
    "* Тангенс\n",
    "* Котангенс\n",
    "* Арксинус\n",
    "* Арккосинус\n",
    "* Арктангенс\n",
    "* Гиперболический синус \n",
    "* Гиперболический косинус\n",
    "* Гиперболический тангенс\n",
    "* Гиперболический арктангенс\n",
    "\n",
    "Оценить величину машинного эпсилон. Предложить модификации для некоторых функций и сравнить полученные результаты."
   ]
  },
  {
   "cell_type": "code",
   "execution_count": 22,
   "metadata": {
    "scrolled": true
   },
   "outputs": [
    {
     "name": "stdout",
     "output_type": "stream",
     "text": [
      "exp(0) = 1, delta = 0.0\n",
      "exp(1) = 2.7182818284590455, delta = -1.6337129034990842e-16\n",
      "exp(2) = 7.389056098930649, delta = 2.4040375598952704e-16\n",
      "exp(5) = 148.4131591025766, delta = 0.0\n",
      "exp(-1) = 0.36787944117144245, delta = -3.017899073375402e-16\n",
      "exp(-5) = 0.006737946999084638, delta = 1.2306386821229965e-13\n",
      "exp(-100) = 8.144652745098073e+25, delta = -2.1893780658237973e+69\n",
      "exp(-2) = 0.13533528323661273, delta = -2.0508750528199364e-16\n"
     ]
    }
   ],
   "source": [
    "def my_exp(x):\n",
    "    summ = 1\n",
    "    term = x\n",
    "    k = 2\n",
    "    while(summ != summ + term):\n",
    "        summ += term\n",
    "        term *= x/k\n",
    "        k += 1\n",
    "    return summ\n",
    "\n",
    "pts = {5, 2, 1, 0, -1, -2, -5, -100}\n",
    "for pt in pts:\n",
    "    print(\"exp({}) = {}, delta = {}\".format(pt, my_exp(pt), (np.exp(pt)-my_exp(pt))/np.exp(pt)))"
   ]
  },
  {
   "cell_type": "markdown",
   "metadata": {},
   "source": [
    "Для -100 уже все плохо, окей, для отрицательных сделаем как 1/положительного"
   ]
  },
  {
   "cell_type": "code",
   "execution_count": 23,
   "metadata": {
    "scrolled": true
   },
   "outputs": [
    {
     "name": "stdout",
     "output_type": "stream",
     "text": [
      "exp(0) = 1, delta = 0.0\n",
      "exp(1) = 2.7182818284590455, delta = -1.6337129034990842e-16\n",
      "exp(2) = 7.389056098930649, delta = 2.4040375598952704e-16\n",
      "exp(5) = 148.4131591025766, delta = 0.0\n",
      "exp(-1) = 0.3678794411714423, delta = 1.508949536687701e-16\n",
      "exp(-5) = 0.006737946999085467, delta = 0.0\n",
      "exp(-100) = 3.7200759760208336e-44, delta = 6.691277616880895e-16\n",
      "exp(-2) = 0.13533528323661273, delta = -2.0508750528199364e-16\n"
     ]
    }
   ],
   "source": [
    "def my_exp_v2(x):\n",
    "    if x >= 0:\n",
    "        return my_exp(x)\n",
    "    else:\n",
    "        return 1/my_exp(-x)\n",
    "    \n",
    "pts = {5, 2, 1, 0, -1, -2, -5, -100}\n",
    "for pt in pts:\n",
    "    print(\"exp({}) = {}, delta = {}\".format(pt, my_exp_v2(pt), (np.exp(pt)-my_exp_v2(pt))/np.exp(pt)))"
   ]
  },
  {
   "cell_type": "markdown",
   "metadata": {},
   "source": [
    "Машинное эпсилон таким образом 10^-16"
   ]
  },
  {
   "cell_type": "code",
   "execution_count": 24,
   "metadata": {
    "scrolled": true
   },
   "outputs": [
    {
     "name": "stdout",
     "output_type": "stream",
     "text": [
      "ln(0.1) = -2.302585092994044, delta = 5.785964799319723e-16\n",
      "ln(0.5) = -0.693147180559945, delta = 4.805139755722377e-16\n",
      "ln(0.9) = -0.10536051565782617, delta = 1.053737273107858e-15\n",
      "ln(1.1) = 0.09531017980432496, delta = -2.912131282577796e-16\n",
      "ln(1.0) = 0, delta = nan\n",
      "ln(0.998) = -0.0020020026706731434, delta = -3.206028121309286e-14\n",
      "ln(1.5) = 0.40546510810816433, delta = 1.369073444821529e-16\n",
      "ln(5) = 1.609437912434099, delta = 8.277844204224551e-16\n",
      "ln(100) = 4.6051701859880785, delta = 2.8929823996598612e-15\n"
     ]
    },
    {
     "name": "stderr",
     "output_type": "stream",
     "text": [
      "C:\\Users\\dedko\\AppData\\Local\\Temp/ipykernel_10268/2719486859.py:20: RuntimeWarning: invalid value encountered in double_scalars\n",
      "  print(\"ln({}) = {}, delta = {}\".format(pt, my_ln_v2(pt), (np.log(pt)-my_ln_v2(pt))/np.log(pt)))\n"
     ]
    }
   ],
   "source": [
    "# Это в основном расходится\n",
    "def my_ln(x):\n",
    "    y = x - 1\n",
    "    summ = 0\n",
    "    term = y\n",
    "    k = 2\n",
    "    while(summ != summ + term):\n",
    "        summ += term\n",
    "        term *= y*(k-1)/k\n",
    "        k += 1\n",
    "    return summ\n",
    "\n",
    "# idea: x= (1+y)/(1-y)\n",
    "def my_ln_v2(x):\n",
    "    y = (x-1) / (x+1)\n",
    "    return my_ln(1+y) - my_ln(1-y)\n",
    "\n",
    "pts = {0.1, 0.5, 0.9, 1., 1.1, 0.998, 1.5, 5, 100}\n",
    "for pt in pts:\n",
    "    print(\"ln({}) = {}, delta = {}\".format(pt, my_ln_v2(pt), (np.log(pt)-my_ln_v2(pt))/np.log(pt)))"
   ]
  },
  {
   "cell_type": "code",
   "execution_count": 25,
   "metadata": {
    "scrolled": true
   },
   "outputs": [
    {
     "name": "stdout",
     "output_type": "stream",
     "text": [
      "sin(0.1) = 0.09983341691018263, delta = -2.6379391386184884e-09\n",
      "sin(0.5) = 0.479426277965088, delta = -1.5421808507917361e-06\n",
      "sin(1.0) = 0.8414700979545517, delta = 1.0539321744574787e-06\n",
      "sin(1.5) = 0.9974949866007259, delta = 3.336918676113527e-12\n",
      "sin(100) = -0.5063666247962375, delta = -1.9426406510546375e-06\n",
      "sin(5) = -0.9589242598094863, delta = 1.54899115494067e-08\n"
     ]
    }
   ],
   "source": [
    "# Долго сходится\n",
    "def my_sin(x):\n",
    "    summ = x\n",
    "    term = -x**3/6\n",
    "    k = 5\n",
    "    while summ != summ + term:\n",
    "        summ += term \n",
    "        term *= -1*x**2/k\n",
    "        k += 2\n",
    "    return summ    \n",
    "\n",
    "def my_cos(x):\n",
    "    summ = 1\n",
    "    term = -x**2/2\n",
    "    k = 4\n",
    "    while summ != summ + term:\n",
    "        summ += term \n",
    "        term *= -1*x**2/k\n",
    "        k += 2\n",
    "    return summ  \n",
    "\n",
    "# Воспользуемся периодичностью и тригонометрией\n",
    "import math\n",
    "def my_sin_v2(x):\n",
    "    n = 0\n",
    "    if(x < 0):\n",
    "        n = 1\n",
    "        x = -x\n",
    "        \n",
    "    while x > math.pi:\n",
    "        n += 1\n",
    "        x -= math.pi\n",
    "    if x > math.pi/2:\n",
    "        x = math.pi - x\n",
    "        \n",
    "    # sin(8*alpha) or cos(8*alpha)       \n",
    "    if(x <= math.pi/4):\n",
    "        s = my_sin(x/8)\n",
    "        c = my_cos(x/8)\n",
    "        return (-1)**n*(8*s*c*(1-2*s**2)*(1-8*s**2*c**2))\n",
    "    else:\n",
    "        s = my_sin((math.pi/2-x)/8)\n",
    "        c = my_cos((math.pi/2-x)/8)\n",
    "        return (-1)**n*(1-32*s**2*c**2*(1-2*s**2)**2)\n",
    "\n",
    "    \n",
    "pts = {0.1, 0.5, 1., 1.5, 5, 100}\n",
    "for pt in pts:\n",
    "    print(\"sin({}) = {}, delta = {}\".format(pt, my_sin_v2(pt), (np.sin(pt)-my_sin_v2(pt))/np.sin(pt)))"
   ]
  },
  {
   "cell_type": "code",
   "execution_count": 26,
   "metadata": {},
   "outputs": [
    {
     "ename": "SyntaxError",
     "evalue": "invalid syntax (Temp/ipykernel_10268/1727900688.py, line 1)",
     "output_type": "error",
     "traceback": [
      "\u001b[1;36m  File \u001b[1;32m\"C:\\Users\\dedko\\AppData\\Local\\Temp/ipykernel_10268/1727900688.py\"\u001b[1;36m, line \u001b[1;32m1\u001b[0m\n\u001b[1;33m    -0.506 365641109758793656557610459785432065032721290657323443392473\u001b[0m\n\u001b[1;37m           ^\u001b[0m\n\u001b[1;31mSyntaxError\u001b[0m\u001b[1;31m:\u001b[0m invalid syntax\n"
     ]
    }
   ],
   "source": [
    "-0.506 365641109758793656557610459785432065032721290657323443392473"
   ]
  },
  {
   "cell_type": "markdown",
   "metadata": {
    "id": "gpR6GBRtKmXq"
   },
   "source": [
    "# Задача 3"
   ]
  },
  {
   "cell_type": "markdown",
   "metadata": {
    "id": "xQ7BfspuTsOt"
   },
   "source": [
    "Реализовать вычисление трех основных норм векторов (L1, L2 и кубическую) и подчиненных им матричных норм. Реализовать вычисление числа обусловленности.\n",
    "\n",
    "Примечание: для вычисления собственных значений можно использовать linalg.eigvals из модуля scipy."
   ]
  },
  {
   "cell_type": "code",
   "execution_count": 121,
   "metadata": {},
   "outputs": [
    {
     "name": "stdout",
     "output_type": "stream",
     "text": [
      "6 3.7416573867739413 3\n"
     ]
    }
   ],
   "source": [
    "def vec_l1(v):\n",
    "    nv = np.abs(v)\n",
    "    return np.sum(nv)\n",
    "\n",
    "def vec_l2(v):\n",
    "    nv = v**2\n",
    "    return (np.sum(nv))**0.5\n",
    "\n",
    "def vec_cube(v):\n",
    "    nv = np.abs(v)\n",
    "    return np.max(nv)\n",
    "\n",
    "v = np.array([1, -2, -3])\n",
    "print(vec_l1(v), vec_l2(v), vec_cube(v))"
   ]
  },
  {
   "cell_type": "code",
   "execution_count": 110,
   "metadata": {},
   "outputs": [],
   "source": [
    "import scipy.linalg"
   ]
  },
  {
   "cell_type": "code",
   "execution_count": 142,
   "metadata": {},
   "outputs": [
    {
     "name": "stdout",
     "output_type": "stream",
     "text": [
      "8 5.858229965986283 6\n"
     ]
    }
   ],
   "source": [
    "def mat_l1(A):\n",
    "    return np.max(np.sum(np.abs(A), axis=0))\n",
    "\n",
    "def mat_l2(A):\n",
    "    w, _ = scipy.linalg.eig(A.T @ A)\n",
    "    return (np.max(np.abs(w)))**0.5\n",
    "    \n",
    "def mat_cube(A):\n",
    "    return np.max(np.sum(np.abs(A), axis=1))    \n",
    "\n",
    "\n",
    "A = np.array([[3, 2, 1],\n",
    "     [2, -1, 1],\n",
    "     [1, 5, 0]])\n",
    "print(mat_l1(A), mat_l2(A), mat_cube(A))"
   ]
  },
  {
   "cell_type": "code",
   "execution_count": 135,
   "metadata": {},
   "outputs": [
    {
     "name": "stdout",
     "output_type": "stream",
     "text": [
      "[6 2 6]\n"
     ]
    }
   ],
   "source": [
    "A = np.array([[3, 2, 1],\n",
    "     [2, -1, 1],\n",
    "     [1, 5, 0]])\n",
    "print(np.sum(A, axis=1))"
   ]
  },
  {
   "cell_type": "code",
   "execution_count": 136,
   "metadata": {},
   "outputs": [
    {
     "name": "stdout",
     "output_type": "stream",
     "text": [
      "58.62188211650337\n"
     ]
    }
   ],
   "source": [
    "# Сделаем по L2 норме\n",
    "def cond_n(A):\n",
    "    return mat_l2(A)*mat_l2(np.linalg.inv(A))\n",
    "\n",
    "print(cond_n(A))"
   ]
  },
  {
   "cell_type": "markdown",
   "metadata": {
    "id": "8-476ZEtKmk5"
   },
   "source": [
    "# Задача 4"
   ]
  },
  {
   "cell_type": "markdown",
   "metadata": {
    "id": "xzG3RPf-T07c"
   },
   "source": [
    "Реализовать метод Гаусса приведения матрицы к ступенчатому виду. Реализовать функцию вычисления ранга матрицы. Сгенерировать вырожденные матрицы различных рангов и размеров и проверить алгоритм."
   ]
  },
  {
   "cell_type": "code",
   "execution_count": 45,
   "metadata": {},
   "outputs": [
    {
     "name": "stdout",
     "output_type": "stream",
     "text": [
      "[[ 92  28 117]\n",
      " [ 45  11  37]\n",
      " [ 47  17  80]]\n",
      "[[ 92  28 117]\n",
      " [  0  -2 -20]\n",
      " [  0   0   0]]\n",
      "[[58 76 91 85 69]\n",
      " [79 19 15 39 58]\n",
      " [64 77 46 59  3]]\n",
      "[[  58   76   91   85   69]\n",
      " [   0  -84 -108  -76  -35]\n",
      " [   0    0  -46  -28  -70]]\n"
     ]
    }
   ],
   "source": [
    "def to_row_echelon_form(M):\n",
    "    n = np.shape(M)[0]\n",
    "    for i in range(0, n-1):\n",
    "        # if we have zero first element just find row with nonzero one\n",
    "        nonzeros = np.nonzero(M[i:,i])\n",
    "        if nonzeros[0].size != 0 :\n",
    "            k = nonzeros[0][0]\n",
    "            M[[i, k+i]] = M[[k+1, i]]\n",
    "            \n",
    "            for j in range(i+1, n):\n",
    "                k = M[j, i] / M[i, i] \n",
    "                M[j, :] = M[j, :] - k*M[i, :]\n",
    "                    \n",
    "                    \n",
    "gen = Generator(3, 5, integer=True, maximum=100)                    \n",
    "A = gen.degenerate()\n",
    "B = gen.full_random()\n",
    "print(A)\n",
    "to_row_echelon_form(A)\n",
    "print(A)\n",
    "print(B)\n",
    "to_row_echelon_form(B)\n",
    "print(B)"
   ]
  },
  {
   "cell_type": "code",
   "execution_count": 50,
   "metadata": {},
   "outputs": [
    {
     "name": "stdout",
     "output_type": "stream",
     "text": [
      "2\n",
      "3\n"
     ]
    }
   ],
   "source": [
    "def rk(A):\n",
    "    to_row_echelon_form(A)\n",
    "    return A.shape[0] - np.sum(np.sum((A != 0), axis=1)==0)\n",
    "\n",
    "A = gen.degenerate()\n",
    "print(rk(A))\n",
    "B = gen.full_random()\n",
    "print(rk(B))"
   ]
  },
  {
   "cell_type": "markdown",
   "metadata": {
    "id": "s8jGlqhJKmpB"
   },
   "source": [
    "# Задача 5"
   ]
  },
  {
   "cell_type": "markdown",
   "metadata": {
    "id": "smdRrcYuT4he"
   },
   "source": [
    "Реализовать метод Гаусса решения СЛАУ. Использовать данный метод для решения систем различных размеров. Оценить скорость работы метода Гаусса (необходимое количество операций) в зависимости от размера системы. "
   ]
  },
  {
   "cell_type": "code",
   "execution_count": 77,
   "metadata": {},
   "outputs": [
    {
     "name": "stdout",
     "output_type": "stream",
     "text": [
      "[ 2. -1.  1.]\n"
     ]
    }
   ],
   "source": [
    "def gaussian_solve(A, b):\n",
    "    n = A.shape[0]\n",
    "    M = np.hstack((A, np.reshape(b,(n, 1)))).astype(float)\n",
    "    to_row_echelon_form(M)\n",
    "    n, m = M.shape\n",
    "    x = np.zeros(n)\n",
    "    \n",
    "    # backward\n",
    "    for k in range(n-1, -1, -1):\n",
    "        M[:k, m-1] = M[:k, m-1] - M[:k, k]*M[k, m-1]/M[k, k]\n",
    "    \n",
    "    # assume system to be determine\n",
    "    for k in range(n-1, -1, -1):\n",
    "        x[k] = M[k, m-1]/M[k, k]\n",
    "    \n",
    "    return x\n",
    "\n",
    "A = np.array([[3, 2, 1],\n",
    "     [2, -1, 1],\n",
    "     [1, 5, 0]])\n",
    "b = [5, 6, -3]\n",
    "print(gaussian_solve(A, b))"
   ]
  },
  {
   "cell_type": "markdown",
   "metadata": {},
   "source": [
    "На лекции оценивалась скорость как n^3 из-за прямого хода метода"
   ]
  },
  {
   "cell_type": "markdown",
   "metadata": {
    "id": "634QUTkyKnWR"
   },
   "source": [
    "# Задача 6"
   ]
  },
  {
   "cell_type": "markdown",
   "metadata": {
    "id": "cxldprgmTnF1"
   },
   "source": [
    "Сгенерировать СЛАУ (размер матрицы должен быть не менее $50\\times 50$). Решить СЛАУ методом Гаусса для различных возмущений столбца свободных членов. Оценить число обусловленности, используя полученные результаты. Вычислить число обусловленности и сравнить с численными оценками."
   ]
  },
  {
   "cell_type": "code",
   "execution_count": 147,
   "metadata": {},
   "outputs": [
    {
     "name": "stdout",
     "output_type": "stream",
     "text": [
      "Conditional numbers: extimation = 2.6315731136648646, real = 3928.0158158497666\n",
      "1010.7435216622656 3.886263658054186\n",
      "Wall time: 1.9 s\n"
     ]
    },
    {
     "data": {
      "image/png": "[encoded data removed]",
      "text/plain": [
       "<Figure size 432x288 with 1 Axes>"
      ]
     },
     "metadata": {
      "needs_background": "light"
     },
     "output_type": "display_data"
    }
   ],
   "source": [
    "%%time\n",
    "N = 100\n",
    "gen = Generator(N, N, maximum = 20)\n",
    "A = gen.full_random()\n",
    "b = 20*np.random.rand(N, 1)\n",
    "\n",
    "x = gaussian_solve(A, b)\n",
    "nx = vec_l2(x)\n",
    "nb = vec_l2(b)\n",
    "errx = []\n",
    "errb = []\n",
    "eps = 0.1\n",
    "for i in range(100):\n",
    "    db = -eps + 2*eps*np.random.rand(N, 1)\n",
    "    xn = gaussian_solve(A, b+db)\n",
    "    dx = xn - x\n",
    "    errx.append(vec_l2(dx)/nx)\n",
    "    errb.append(vec_l2(db)/nb)\n",
    "    \n",
    "import matplotlib.pyplot as plt\n",
    "\n",
    "plt.scatter(errb, errx)\n",
    "plt.plot()\n",
    "\n",
    "cn = np.mean(np.array(errx) / np.array(errb))\n",
    "print(\"Conditional numbers: extimation = {}, real = {}\".format(cn, cond_n(A)))\n",
    "\n",
    "print(mat_l2(A), mat_l2(np.linalg.inv(A)))"
   ]
  },
  {
   "cell_type": "markdown",
   "metadata": {
    "id": "KQaBP8lURmuE"
   },
   "source": [
    "# Дополнительные задачи"
   ]
  },
  {
   "cell_type": "markdown",
   "metadata": {
    "id": "igJf5dJZRoXN"
   },
   "source": [
    "## *Задача 7* "
   ]
  },
  {
   "cell_type": "markdown",
   "metadata": {
    "id": "elhxJ6fJRRq3"
   },
   "source": [
    "В этой задаче требуется найти аналитическое решение и проверить его с \n",
    "\n",
    "помощью вычислений на Python. Решить только один пример (на выбор).\n",
    "\n",
    "Примеры решения подобных задач есть в документе \"Визуализация данных\" к занятию А1"
   ]
  },
  {
   "cell_type": "markdown",
   "metadata": {
    "id": "Zh4lVDmtIaCV"
   },
   "source": [
    "1.1. Чему равна погрешность в определении действительного корня $x=1$ уравнения $a x^{4}+b x^{3}+d x+e=0$, если $a=1 \\pm 10^{-3}, b=1 \\pm 10^{-3}$, $d=-1 \\pm 10^{-3}, e=-1 \\pm 10^{-3}$ ?\n",
    "\n",
    "1.2. Чему равна погрешность в определении корней уравнения $a x^{3}+b x^{2}=0$, если $a=1 \\pm 10^{-3}, b=-4 \\pm 10^{-3}$ ?\n",
    "\n",
    "1.3. С каким числом верных знаков (или относительной погрешностью) должен быть известен свободный член в уравнении $x^{2}-2 x+0.999993751=0$, чтобы корни имели четыре верных знака?\n",
    "\n",
    "1.4. С каким числом верных знаков (или относительной погрешностью) должен быть известен свободный член в уравнении $x^{2}-4 x+3.999901=0$, чтобы корни имели четыре верных знака?\n",
    "\n",
    "1.5. Определить оптимальный шаг $h=$ const формулы численного дифференцирования $f^{\\prime}(x-h) \\approx(f(x)-f(x-h)) / h, \\max _{[x-h, x]}\\left|f^{\\prime \\prime}(x)\\right| \\leq 100$, если абсолютная погрешность при задании $f(x), f(x-h)$ не превосходит $\\Delta=0.1$\n",
    "\n",
    "1.6. Определить оптимальный шаг $h=$ const формулы численного дифференцирования $f^{\\prime}(x) \\approx(f(x+h)-f(x-h)) / 2 h, \\max _{[x-h, x+h]}\\left|f^{\\prime \\prime \\prime}(x)\\right| \\leq 100$, если абсолютная погрешность при задании, $f(x \\pm h)$ не превосходит $\\Delta=0.1$.\n",
    "\n",
    "1.7. Определить оптимальный шаг $h=$ const формулы численного дифференцирования $f^{\\prime}(x) \\approx(3 f(x)-4 f(x-h)+f(x-2 h)) / 2 h$, $\\max _{[x-2 h, x]}\\left|f^{\\prime \\prime \\prime}(x)\\right| \\leq 100$, если абсолютная погрешность при задании $f(x)$, $f(x-h), f(x-2 h)$ не превосходит $\\Delta=0.1$.\n",
    "\n",
    "1.8. Пусть приближенное значение первой производной функции $f(x)$ определяется при $h \\ll 1$ по формуле\n",
    "$f^{\\prime}(x) \\approx(3 f(x)-4 f(x-h)+f(x-2 h)) / 2 h$, а сами значения $f(x), f(x-h), f(x-2 h)$ вычисляются с абсолютной погрешностью $\\Delta$.\n",
    "Какую погрешность можно ожидать при вычислении производной, если $\\left|f^{(k)}(x)\\right| \\leq M_{k}, k=1,2, \\ldots ?$\n",
    "\n",
    "1.9. Пусть задана последовательность чисел $x_{n}, n=0,1,2, \\ldots$, причем $x_{n+1}-5 x_{n}=4$, а $x_{0}$ известно с относительной погрешностью $10^{-6} .$ При каких значениях $x_{0}$ относительная погрешность при вычислении $x_{n}$ будет быстро возрастать с ростом $n$ ?\n",
    "\n",
    "1.10. Пусть задана последовательность чисел $x_{n}, n=0,1,2, \\ldots$, причем $5 x_{n+1}-x_{n}=4$, а $x_{0}$ известно с относительной погрешностью $10^{-6} .$ При каких значениях $x_{0}$ относительная погрешность при вычислении $x_{n}$ будет быстро возрастать с ростом $n$ ?"
   ]
  },
  {
   "cell_type": "markdown",
   "metadata": {
    "id": "WfmTt-36Te8Q"
   },
   "source": [
    "## *Задача 8* "
   ]
  },
  {
   "cell_type": "markdown",
   "metadata": {
    "id": "8gHzjikte83x"
   },
   "source": [
    "Выбор метрики (нормы разницы между любыми двумя векторами, или функции расстояния между любой парой точек) очень важен для многих алгоритмов машинного обучения. Рассмотрим на примере задачи кластеризации. \n",
    "\n",
    "Кластеризация — это разделение множества входных векторов на группы (кластеры) по степени «схожести» друг с другом.\n",
    "\n",
    "Кластеризация в Data Mining приобретает ценность тогда, когда она выступает одним из этапов анализа данных, построения законченного аналитического решения. Аналитику часто легче выделить группы схожих объектов, изучить их особенности и построить для каждой группы отдельную модель, чем создавать одну общую модель для всех данных. Таким приемом постоянно пользуются в маркетинге, выделяя группы клиентов, покупателей, товаров и разрабатывая для каждой из них отдельную стратегию.\n",
    "\n",
    "\n",
    "Евклидова метрика \n",
    "\n",
    "\n",
    "— наиболее распространенная. Она является геометрическим расстоянием в многомерном пространстве.\n",
    "\n",
    "\n",
    "Квадрат евклидовой метрики. \n",
    "\n",
    "\n",
    "Иногда может возникнуть желание возвести в квадрат стандартное евклидово расстояние, чтобы придать большие веса более отдаленным друг от друга объектам.\n",
    "\n",
    "\n",
    "Метрика городских кварталов (манхэттенская). \n",
    "\n",
    "\n",
    "Это расстояние является суммой модулей разностей координат. В большинстве случаев эта метрика приводит к таким же результатам, как и для обычного расстояния Евклида. Однако отметим, что для этой меры влияние отдельных больших разностей (выбросов) уменьшается (так как они не возводятся в квадрат).\n",
    "\n",
    "Расстояние Чебышева. \n",
    "\n",
    "Это метрика шахматной доски (Расстоянием Чебышёва между n-мерными числовыми векторами называется максимум модуля разности компонент этих векторов). Это расстояние может оказаться полезным, когда желают определить два объекта как «различные», если они различаются по какой-либо одной координате (каким-либо одним измерением).\n",
    "\n",
    "Расстояние Чебышёва называют также метрикой Чебышёва, равномерной метрикой, sup-метрикой и бокс-метрикой; также иногда она называется метрикой решётки, метрикой шахматной доски, метрикой хода короля и 8-метрикой.\n",
    "\n",
    "Степенная метрика. \n",
    "\n",
    "Иногда желают прогрессивно увеличить или уменьшить вес, относящийся к размерности, для которой соответствующие объекты сильно отличаются. Это может быть достигнуто с использованием степенного расстояния.\n",
    "\n",
    "\n",
    "Выбор метрики (критерия схожести) лежит полностью на исследователе. При выборе различных мер результаты кластеризации могут существенно отличаться.\n",
    "\n",
    "Алгоритм k-means (k-средних)\n",
    "\n",
    "Наиболее простой, но в то же время достаточно неточный метод кластеризации в классической реализации. Он разбивает множество элементов векторного пространства на заранее известное число кластеров k. Действие алгоритма таково, что он стремится минимизировать среднеквадратичное отклонение на точках каждого кластера. Основная идея заключается в том, что на каждой итерации перевычисляется центр масс для каждого кластера, полученного на предыдущем шаге, затем векторы разбиваются на кластеры вновь в соответствии с тем, какой из новых центров оказался ближе по выбранной метрике. Алгоритм завершается, когда на какой-то итерации не происходит изменения кластеров.\n",
    "\n",
    "Проблемы алгоритма k-means:\n",
    "* необходимо заранее знать количество кластеров. Мной было предложено метод определения количества кластеров, который основывался на нахождении кластеров, распределенных по некоему закону (в моем случае все сводилось к нормальному закону). После этого выполнялся классический алгоритм k-means, который давал более точные результаты.\n",
    "* алгоритм очень чувствителен к выбору начальных центров кластеров. Классический вариант подразумевает случайный выбор класторов, что очень часто являлось источником погрешности. Как вариант решения, необходимо проводить исследования объекта для более точного определения центров начальных кластеров. В моем случае на начальном этапе предлагается принимать в качестве центов самые отдаленные точки кластеров.\n",
    "* не справляется с задачей, когда объект принадлежит к разным кластерам в равной степени или не принадлежит ни одному.\n",
    "\n",
    "Нечеткий алгоритм кластеризации с-means\n",
    "\n",
    "С последней проблемой k-means успешно справляется алгоритм с-means. Вместо однозначного ответа на вопрос к какому кластеру относится объект, он определяет вероятность того, что объект принадлежит к тому или иному кластеру. Таким образом, утверждение «объект А принадлежит к кластеру 1 с вероятностью 90%, к кластеру 2 — 10% » верно и более удобно.\n",
    "\n",
    "Остальные проблемы у с-means такие же, как у k-means, но они нивелируются благодаря нечеткости разбиения.\n",
    "\n",
    "Метод нечеткой кластеризации C-средних имеет ограниченное применение из-за существенного недостатка — невозможность корректного разбиения на кластеры, в случае когда кластеры имеют различную дисперсию по различным размерностям (осям) элементов (например, кластер имеет форму эллипса). Данный недостаток устранен в алгоритмах Mixture models и GMM (Gaussian mixture models). \n",
    "\n",
    "\n",
    "Документация методов кластеризации для sklearn есть здесь https://scikit-learn.org/stable/modules/clustering.html#k-means . \n",
    "\n",
    "\n",
    "Используя библиотеку scikit-learn, реализуйте Gaussian mixture models и обычный k-means.  Подберите такой набор данных, на котором первый метод справляется хорошо, а второй метод даёт плохие результаты, и продемонстрируйте это. Сделайте это для нескольких разных метрик и сравните результаты между собой.\n",
    "\n",
    "https://scikit-learn.ru/example/  примеры подобного.\n",
    "\n",
    "https://neurohive.io/ru/osnovy-data-science/vvedenie-v-scikit-learn/  введение в sklearn. На этом сайте много полезных статей и ссылок на курсы.\n",
    "\n",
    "\n"
   ]
  }
 ],
 "metadata": {
  "colab": {
   "collapsed_sections": [
    "MeXTSdSfKdL2",
    "sS3EHa1aKmJi",
    "gpR6GBRtKmXq",
    "8-476ZEtKmk5",
    "s8jGlqhJKmpB",
    "634QUTkyKnWR",
    "igJf5dJZRoXN",
    "WfmTt-36Te8Q"
   ],
   "name": "Семинар B1 (1).ipynb",
   "provenance": [],
   "toc_visible": true
  },
  "kernelspec": {
   "display_name": "Python 3 (ipykernel)",
   "language": "python",
   "name": "python3"
  },
  "language_info": {
   "codemirror_mode": {
    "name": "ipython",
    "version": 3
   },
   "file_extension": ".py",
   "mimetype": "text/x-python",
   "name": "python",
   "nbconvert_exporter": "python",
   "pygments_lexer": "ipython3",
   "version": "3.9.7"
  }
 },
 "nbformat": 4,
 "nbformat_minor": 1
}
